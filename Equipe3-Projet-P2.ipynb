{
 "cells": [
  {
   "cell_type": "markdown",
   "id": "ad84e74d",
   "metadata": {},
   "source": [
    "# Projet partie 2\n",
    "Groupe 3\n",
    "\n",
    "Mathieu Muty - MUTM22090200\n",
    "\n",
    "Gabrielle Walgraef - WALG13580100\n",
    "\n",
    "Mamoudou Camara - CAMM12080206"
   ]
  },
  {
   "cell_type": "code",
   "execution_count": 2,
   "id": "532683be",
   "metadata": {},
   "outputs": [],
   "source": [
    "# importation des libraries\n",
    "\n",
    "import pandas as pd\n",
    "import numpy as np\n",
    "import scipy.stats as stats\n",
    "import seaborn as sns\n",
    "import matplotlib as mpl\n",
    "import matplotlib.pyplot as plt"
   ]
  },
  {
   "cell_type": "code",
   "execution_count": 3,
   "id": "09268f2b",
   "metadata": {},
   "outputs": [],
   "source": [
    "# chargement des fichiers csv\n",
    "environnement = pd.read_csv('./data_projet/environnement.csv')\n",
    "genre = pd.read_csv('./data_projet/genre.csv')\n",
    "meteo = pd.read_csv('./data_projet/meteo.csv')\n",
    "propulation = pd.read_csv('./data_projet/population.csv')\n",
    "surface = pd.read_csv('./data_projet/surface.csv')\n",
    "rapport = pd.read_excel('./data_projet/rapports-accident-2021.xlsx')"
   ]
  },
  {
   "cell_type": "markdown",
   "id": "77465a96",
   "metadata": {},
   "source": [
    "### Question 1 \n",
    "Existe-t-il une association significative entre la gravité de l'accident et la météo ? Considérez\n",
    "seulement les catégories de gravité suivantes\n",
    "\n",
    "- Dommages matériels inférieurs au seuil de rapportage\n",
    "- Dommages matériels seulement\n",
    "- Léger\n",
    "\n",
    "**Répondre à l'aide de test d'hypothèse**"
   ]
  },
  {
   "cell_type": "code",
   "execution_count": 6,
   "id": "c0c0055d",
   "metadata": {},
   "outputs": [
    {
     "name": "stdout",
     "output_type": "stream",
     "text": [
      "hello world :)\n"
     ]
    }
   ],
   "source": [
    "print(\"hello world :)\")"
   ]
  },
  {
   "cell_type": "markdown",
   "id": "289be583",
   "metadata": {},
   "source": [
    "### Question 2\n",
    "Existe-t-il une corrélation entre la valeur des dommages pour les accidents dont la gravité est\n",
    "légère et l'âge du conducteur?\n",
    "\n",
    "**Répondre à l'aide de test d'hypothèse**"
   ]
  },
  {
   "cell_type": "code",
   "execution_count": 7,
   "id": "6d50422c",
   "metadata": {},
   "outputs": [
    {
     "name": "stdout",
     "output_type": "stream",
     "text": [
      "hello world :)\n"
     ]
    }
   ],
   "source": [
    "# Hypothèse H0 : Non il n'y a aucune corrélation entre la valeur des dommages pour les accidents léger et l'âge du conducteur\n",
    "# Hypothèse H1: Oui il y a une corrélation"
   ]
  },
  {
   "cell_type": "markdown",
   "id": "9b75f36c",
   "metadata": {},
   "source": [
    "### Question 3\n",
    "\n",
    "Existe-t-il une différence significative entre la moyenne de la valeur des dommages en\n",
    "fonction du sexe du conducteur?\n",
    "\n",
    "**Répondre à l'aide de test d'hypothèse**"
   ]
  },
  {
   "cell_type": "code",
   "execution_count": 8,
   "id": "7555a968",
   "metadata": {},
   "outputs": [
    {
     "name": "stdout",
     "output_type": "stream",
     "text": [
      "hello world :)\n"
     ]
    }
   ],
   "source": [
    "print(\"hello world :)\")"
   ]
  },
  {
   "cell_type": "markdown",
   "metadata": {},
   "source": [
    "### Question 4\n",
    "\n",
    "Créez une Série nommée time_serie qui présente le nombre d'accident par jour"
   ]
  },
  {
   "cell_type": "code",
   "execution_count": 5,
   "id": "68be0cf5",
   "metadata": {},
   "outputs": [
    {
     "name": "stdout",
     "output_type": "stream",
     "text": [
      "DT_ACCDN\n",
      "2021-01-01    133\n",
      "2021-01-02    300\n",
      "2021-01-03    142\n",
      "2021-01-04    172\n",
      "2021-01-05    160\n",
      "             ... \n",
      "2021-12-27    152\n",
      "2021-12-28    277\n",
      "2021-12-29    197\n",
      "2021-12-30    227\n",
      "2021-12-31    202\n",
      "Length: 365, dtype: int64\n"
     ]
    }
   ],
   "source": [
    "date_accdn = pd.to_datetime(rapport['DT_ACCDN'], format='%d/%m/%Y')\n",
    "\n",
    "time_serie = pd.Series(rapport.groupby(date_accdn.dt.date).size())\n",
    "print(time_serie)\n"
   ]
  },
  {
   "cell_type": "markdown",
   "metadata": {},
   "source": [
    "### Question 5 \n",
    "\n",
    "Est-ce que time_serie est stationnaire ? Sinon, transformez-la en série stationnaire."
   ]
  },
  {
   "cell_type": "code",
   "execution_count": null,
   "metadata": {},
   "outputs": [],
   "source": []
  },
  {
   "cell_type": "markdown",
   "metadata": {},
   "source": [
    "### Question 6 \n",
    "\n",
    "Est-ce que time_serie présente une saisonalité? Si oui, quelle est la période de celle-ci\n",
    "(journalière, hebdomadaire, mensuelle etc)?"
   ]
  },
  {
   "cell_type": "code",
   "execution_count": null,
   "metadata": {},
   "outputs": [],
   "source": []
  },
  {
   "cell_type": "markdown",
   "metadata": {},
   "source": [
    "### Question 7\n",
    "\n",
    "La SAAQ vous contacte afin de lancer une campagne de prévention des accidents de la route.\n",
    "Elle veut proposer différents messages aux MRCs en fonction des caractérisques des accidents qui s'y\n",
    "produisent. Bien entendu, la SAAQ ne veut pas faire une campagne par MRC donc elle vous contacte\n",
    "pour que vous lui proposer une segmentation des MRCs en fonction des caractéristiques des accidents\n",
    "qui y sont survenus.\n",
    "\n",
    "Vous devez pour mener à terme ce projet:\n",
    "\n",
    "o Effectuez les pré-traitement requis à la segmentation (choix des variables, standardisation, gestion des\n",
    "valeurs extrêmes etc.)\n",
    "\n",
    "o Proposez un nombre de groupes et les MRCs associées à chacun de ceux-ci.\n",
    "\n",
    "o Décrire les caractéristiques de chacun des groupes.\n",
    "\n",
    "Vous pouvez choisir la méthode de segmentation de votre choix. Justifiez chacune des étapes."
   ]
  }
 ],
 "metadata": {
  "kernelspec": {
   "display_name": "Python 3 (ipykernel)",
   "language": "python",
   "name": "python3"
  },
  "language_info": {
   "codemirror_mode": {
    "name": "ipython",
    "version": 3
   },
   "file_extension": ".py",
   "mimetype": "text/x-python",
   "name": "python",
   "nbconvert_exporter": "python",
   "pygments_lexer": "ipython3",
   "version": "3.11.0"
  }
 },
 "nbformat": 4,
 "nbformat_minor": 5
}

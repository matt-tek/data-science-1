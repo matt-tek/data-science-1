{
 "cells": [
  {
   "cell_type": "markdown",
   "id": "13bef445",
   "metadata": {},
   "source": [
    "# Apprentissage Supervisé"
   ]
  },
  {
   "cell_type": "code",
   "execution_count": 1,
   "id": "7a3eacab",
   "metadata": {},
   "outputs": [],
   "source": [
    "import numpy as np\n",
    "import pandas as pd"
   ]
  },
  {
   "cell_type": "markdown",
   "id": "aea0ae55",
   "metadata": {},
   "source": [
    "## Réduction de la dimensionnalité: ACP"
   ]
  },
  {
   "cell_type": "markdown",
   "id": "5f8e0233",
   "metadata": {},
   "source": [
    "On peut utiliser la librairie `sklearn` et la fonction `PCA` afin de réaliser une analyse par composante principale. Voici le lien vers la documentation: https://scikit-learn.org/stable/modules/generated/sklearn.decomposition.PCA.html"
   ]
  },
  {
   "cell_type": "code",
   "execution_count": 2,
   "id": "261fcf45",
   "metadata": {},
   "outputs": [],
   "source": [
    "# Importation des librairies\n",
    "from sklearn.decomposition import PCA\n",
    "from sklearn.preprocessing import StandardScaler"
   ]
  },
  {
   "cell_type": "markdown",
   "id": "bbd9cad8",
   "metadata": {},
   "source": [
    "**Exemple avec le jeu de données Iris**"
   ]
  },
  {
   "cell_type": "code",
   "execution_count": 3,
   "id": "4ca3e04e",
   "metadata": {},
   "outputs": [
    {
     "name": "stdout",
     "output_type": "stream",
     "text": [
      "Nom de variable ['sepal length (cm)', 'sepal width (cm)', 'petal length (cm)', 'petal width (cm)']\n"
     ]
    }
   ],
   "source": [
    "# Importation du jeu de données\n",
    "from sklearn import datasets\n",
    "iris = datasets.load_iris()\n",
    "print('Nom de variable',iris.feature_names)"
   ]
  },
  {
   "cell_type": "code",
   "execution_count": 4,
   "id": "ebc090a8",
   "metadata": {},
   "outputs": [
    {
     "name": "stdout",
     "output_type": "stream",
     "text": [
      "[[5.1 3.5 1.4 0.2]\n",
      " [4.9 3.  1.4 0.2]\n",
      " [4.7 3.2 1.3 0.2]\n",
      " [4.6 3.1 1.5 0.2]\n",
      " [5.  3.6 1.4 0.2]\n",
      " [5.4 3.9 1.7 0.4]\n",
      " [4.6 3.4 1.4 0.3]\n",
      " [5.  3.4 1.5 0.2]\n",
      " [4.4 2.9 1.4 0.2]\n",
      " [4.9 3.1 1.5 0.1]\n",
      " [5.4 3.7 1.5 0.2]\n",
      " [4.8 3.4 1.6 0.2]\n",
      " [4.8 3.  1.4 0.1]\n",
      " [4.3 3.  1.1 0.1]\n",
      " [5.8 4.  1.2 0.2]\n",
      " [5.7 4.4 1.5 0.4]\n",
      " [5.4 3.9 1.3 0.4]\n",
      " [5.1 3.5 1.4 0.3]\n",
      " [5.7 3.8 1.7 0.3]\n",
      " [5.1 3.8 1.5 0.3]\n",
      " [5.4 3.4 1.7 0.2]\n",
      " [5.1 3.7 1.5 0.4]\n",
      " [4.6 3.6 1.  0.2]\n",
      " [5.1 3.3 1.7 0.5]\n",
      " [4.8 3.4 1.9 0.2]\n",
      " [5.  3.  1.6 0.2]\n",
      " [5.  3.4 1.6 0.4]\n",
      " [5.2 3.5 1.5 0.2]\n",
      " [5.2 3.4 1.4 0.2]\n",
      " [4.7 3.2 1.6 0.2]\n",
      " [4.8 3.1 1.6 0.2]\n",
      " [5.4 3.4 1.5 0.4]\n",
      " [5.2 4.1 1.5 0.1]\n",
      " [5.5 4.2 1.4 0.2]\n",
      " [4.9 3.1 1.5 0.2]\n",
      " [5.  3.2 1.2 0.2]\n",
      " [5.5 3.5 1.3 0.2]\n",
      " [4.9 3.6 1.4 0.1]\n",
      " [4.4 3.  1.3 0.2]\n",
      " [5.1 3.4 1.5 0.2]\n",
      " [5.  3.5 1.3 0.3]\n",
      " [4.5 2.3 1.3 0.3]\n",
      " [4.4 3.2 1.3 0.2]\n",
      " [5.  3.5 1.6 0.6]\n",
      " [5.1 3.8 1.9 0.4]\n",
      " [4.8 3.  1.4 0.3]\n",
      " [5.1 3.8 1.6 0.2]\n",
      " [4.6 3.2 1.4 0.2]\n",
      " [5.3 3.7 1.5 0.2]\n",
      " [5.  3.3 1.4 0.2]\n",
      " [7.  3.2 4.7 1.4]\n",
      " [6.4 3.2 4.5 1.5]\n",
      " [6.9 3.1 4.9 1.5]\n",
      " [5.5 2.3 4.  1.3]\n",
      " [6.5 2.8 4.6 1.5]\n",
      " [5.7 2.8 4.5 1.3]\n",
      " [6.3 3.3 4.7 1.6]\n",
      " [4.9 2.4 3.3 1. ]\n",
      " [6.6 2.9 4.6 1.3]\n",
      " [5.2 2.7 3.9 1.4]\n",
      " [5.  2.  3.5 1. ]\n",
      " [5.9 3.  4.2 1.5]\n",
      " [6.  2.2 4.  1. ]\n",
      " [6.1 2.9 4.7 1.4]\n",
      " [5.6 2.9 3.6 1.3]\n",
      " [6.7 3.1 4.4 1.4]\n",
      " [5.6 3.  4.5 1.5]\n",
      " [5.8 2.7 4.1 1. ]\n",
      " [6.2 2.2 4.5 1.5]\n",
      " [5.6 2.5 3.9 1.1]\n",
      " [5.9 3.2 4.8 1.8]\n",
      " [6.1 2.8 4.  1.3]\n",
      " [6.3 2.5 4.9 1.5]\n",
      " [6.1 2.8 4.7 1.2]\n",
      " [6.4 2.9 4.3 1.3]\n",
      " [6.6 3.  4.4 1.4]\n",
      " [6.8 2.8 4.8 1.4]\n",
      " [6.7 3.  5.  1.7]\n",
      " [6.  2.9 4.5 1.5]\n",
      " [5.7 2.6 3.5 1. ]\n",
      " [5.5 2.4 3.8 1.1]\n",
      " [5.5 2.4 3.7 1. ]\n",
      " [5.8 2.7 3.9 1.2]\n",
      " [6.  2.7 5.1 1.6]\n",
      " [5.4 3.  4.5 1.5]\n",
      " [6.  3.4 4.5 1.6]\n",
      " [6.7 3.1 4.7 1.5]\n",
      " [6.3 2.3 4.4 1.3]\n",
      " [5.6 3.  4.1 1.3]\n",
      " [5.5 2.5 4.  1.3]\n",
      " [5.5 2.6 4.4 1.2]\n",
      " [6.1 3.  4.6 1.4]\n",
      " [5.8 2.6 4.  1.2]\n",
      " [5.  2.3 3.3 1. ]\n",
      " [5.6 2.7 4.2 1.3]\n",
      " [5.7 3.  4.2 1.2]\n",
      " [5.7 2.9 4.2 1.3]\n",
      " [6.2 2.9 4.3 1.3]\n",
      " [5.1 2.5 3.  1.1]\n",
      " [5.7 2.8 4.1 1.3]\n",
      " [6.3 3.3 6.  2.5]\n",
      " [5.8 2.7 5.1 1.9]\n",
      " [7.1 3.  5.9 2.1]\n",
      " [6.3 2.9 5.6 1.8]\n",
      " [6.5 3.  5.8 2.2]\n",
      " [7.6 3.  6.6 2.1]\n",
      " [4.9 2.5 4.5 1.7]\n",
      " [7.3 2.9 6.3 1.8]\n",
      " [6.7 2.5 5.8 1.8]\n",
      " [7.2 3.6 6.1 2.5]\n",
      " [6.5 3.2 5.1 2. ]\n",
      " [6.4 2.7 5.3 1.9]\n",
      " [6.8 3.  5.5 2.1]\n",
      " [5.7 2.5 5.  2. ]\n",
      " [5.8 2.8 5.1 2.4]\n",
      " [6.4 3.2 5.3 2.3]\n",
      " [6.5 3.  5.5 1.8]\n",
      " [7.7 3.8 6.7 2.2]\n",
      " [7.7 2.6 6.9 2.3]\n",
      " [6.  2.2 5.  1.5]\n",
      " [6.9 3.2 5.7 2.3]\n",
      " [5.6 2.8 4.9 2. ]\n",
      " [7.7 2.8 6.7 2. ]\n",
      " [6.3 2.7 4.9 1.8]\n",
      " [6.7 3.3 5.7 2.1]\n",
      " [7.2 3.2 6.  1.8]\n",
      " [6.2 2.8 4.8 1.8]\n",
      " [6.1 3.  4.9 1.8]\n",
      " [6.4 2.8 5.6 2.1]\n",
      " [7.2 3.  5.8 1.6]\n",
      " [7.4 2.8 6.1 1.9]\n",
      " [7.9 3.8 6.4 2. ]\n",
      " [6.4 2.8 5.6 2.2]\n",
      " [6.3 2.8 5.1 1.5]\n",
      " [6.1 2.6 5.6 1.4]\n",
      " [7.7 3.  6.1 2.3]\n",
      " [6.3 3.4 5.6 2.4]\n",
      " [6.4 3.1 5.5 1.8]\n",
      " [6.  3.  4.8 1.8]\n",
      " [6.9 3.1 5.4 2.1]\n",
      " [6.7 3.1 5.6 2.4]\n",
      " [6.9 3.1 5.1 2.3]\n",
      " [5.8 2.7 5.1 1.9]\n",
      " [6.8 3.2 5.9 2.3]\n",
      " [6.7 3.3 5.7 2.5]\n",
      " [6.7 3.  5.2 2.3]\n",
      " [6.3 2.5 5.  1.9]\n",
      " [6.5 3.  5.2 2. ]\n",
      " [6.2 3.4 5.4 2.3]\n",
      " [5.9 3.  5.1 1.8]]\n",
      "[[-2.26470281e+00  4.80026597e-01 -1.27706022e-01 -2.41682039e-02]\n",
      " [-2.08096115e+00 -6.74133557e-01 -2.34608854e-01 -1.03006775e-01]\n",
      " [-2.36422905e+00 -3.41908024e-01  4.42014848e-02 -2.83770534e-02]\n",
      " [-2.29938422e+00 -5.97394508e-01  9.12901063e-02  6.59555596e-02]\n",
      " [-2.38984217e+00  6.46835383e-01  1.57381957e-02  3.59228133e-02]\n",
      " [-2.07563095e+00  1.48917752e+00  2.69682944e-02 -6.60818022e-03]\n",
      " [-2.44402884e+00  4.76441976e-02  3.35470401e-01  3.67755572e-02]\n",
      " [-2.23284716e+00  2.23148073e-01 -8.86954979e-02  2.46120962e-02]\n",
      " [-2.33464048e+00 -1.11532768e+00  1.45076864e-01  2.68592208e-02]\n",
      " [-2.18432817e+00 -4.69013561e-01 -2.53765567e-01  3.98992877e-02]\n",
      " [-2.16631010e+00  1.04369065e+00 -2.68681102e-01 -1.67313672e-02]\n",
      " [-2.32613087e+00  1.33078335e-01  9.37592444e-02  1.33483413e-01]\n",
      " [-2.21845090e+00 -7.28676165e-01 -2.30911237e-01 -2.42503814e-03]\n",
      " [-2.63310070e+00 -9.61506729e-01  1.80796084e-01  1.92155336e-02]\n",
      " [-2.19874060e+00  1.86005711e+00 -4.72900998e-01 -1.94731769e-01]\n",
      " [-2.26221453e+00  2.68628449e+00  3.05266093e-02 -5.05337373e-02]\n",
      " [-2.20758770e+00  1.48360936e+00 -5.34409408e-03 -1.88817432e-01]\n",
      " [-2.19034951e+00  4.88838316e-01 -4.42153165e-02 -9.30904384e-02]\n",
      " [-1.89857200e+00  1.40501879e+00 -3.74343275e-01 -6.10959671e-02]\n",
      " [-2.34336905e+00  1.12784938e+00  1.32630467e-01  3.77564197e-02]\n",
      " [-1.91432300e+00  4.08855708e-01 -4.21292594e-01 -1.09212863e-02]\n",
      " [-2.20701284e+00  9.24121427e-01  1.59865277e-01 -5.95973299e-02]\n",
      " [-2.77434470e+00  4.58343668e-01  3.32179098e-01 -1.96484301e-02]\n",
      " [-1.81866953e+00  8.55585263e-02  3.44885958e-02 -1.51140999e-01]\n",
      " [-2.22716331e+00  1.37254455e-01  1.17993536e-01  2.70140352e-01]\n",
      " [-1.95184633e+00 -6.25618588e-01 -3.05640982e-01 -4.35616510e-02]\n",
      " [-2.05115137e+00  2.42163553e-01  8.63640108e-02 -6.76800599e-02]\n",
      " [-2.16857717e+00  5.27149525e-01 -2.06816248e-01 -1.02753930e-02]\n",
      " [-2.13956345e+00  3.13217810e-01 -2.71150240e-01 -8.42592210e-02]\n",
      " [-2.26526149e+00 -3.37731904e-01  6.84357762e-02  1.08279885e-01]\n",
      " [-2.14012214e+00 -5.04540690e-01 -7.50084417e-02  4.81888683e-02]\n",
      " [-1.83159477e+00  4.23695068e-01 -2.70467377e-01 -2.39870381e-01]\n",
      " [-2.61494794e+00  1.79357586e+00  4.72284187e-02  2.29235932e-01]\n",
      " [-2.44617739e+00  2.15072788e+00 -8.26680451e-02  4.82143929e-02]\n",
      " [-2.10997488e+00 -4.60201841e-01 -1.70274861e-01 -2.90229468e-02]\n",
      " [-2.20780890e+00 -2.06107398e-01 -2.25441580e-01 -1.68907873e-01]\n",
      " [-2.04514621e+00  6.61558111e-01 -4.84537410e-01 -1.96358525e-01]\n",
      " [-2.52733191e+00  5.92292774e-01  1.94358125e-02  1.36504550e-01]\n",
      " [-2.42963258e+00 -9.04180040e-01  1.93254662e-01  9.73842285e-03]\n",
      " [-2.16971071e+00  2.68878961e-01 -1.75883821e-01 -7.04740592e-03]\n",
      " [-2.28647514e+00  4.41715388e-01  3.48949090e-02 -1.06983249e-01]\n",
      " [-1.85812246e+00 -2.33741516e+00 -2.04234223e-01 -2.89863919e-01]\n",
      " [-2.55363840e+00 -4.79100690e-01  3.05766453e-01  6.66014529e-02]\n",
      " [-1.96444768e+00  4.72326668e-01  3.09601318e-01 -1.77093014e-01]\n",
      " [-2.13705901e+00  1.14222926e+00  2.48433561e-01  1.51043437e-01]\n",
      " [-2.06974430e+00 -7.11052725e-01 -6.39298256e-02 -1.40269507e-01]\n",
      " [-2.38473317e+00  1.12042970e+00  5.72178581e-02  1.52230967e-01]\n",
      " [-2.39437631e+00 -3.86246873e-01  1.39467905e-01  4.88347616e-02]\n",
      " [-2.22944655e+00  9.97959764e-01 -1.81492780e-01  1.49281349e-02]\n",
      " [-2.20383344e+00  9.21635752e-03 -1.53029490e-01 -4.93717318e-02]\n",
      " [ 1.10178118e+00  8.62972418e-01 -6.84586163e-01 -3.48337755e-02]\n",
      " [ 7.31337425e-01  5.94614726e-01 -9.41217155e-02 -4.90362325e-03]\n",
      " [ 1.24097932e+00  6.16297654e-01 -5.54006835e-01 -9.42339702e-03]\n",
      " [ 4.07483059e-01 -1.75440399e+00 -2.31017678e-02 -6.57688353e-02]\n",
      " [ 1.07547470e+00 -2.08421046e-01 -3.98255523e-01 -1.04736873e-01]\n",
      " [ 3.88687337e-01 -5.93283636e-01  1.24191550e-01  2.40831300e-01]\n",
      " [ 7.46529741e-01  7.73019312e-01  1.48969403e-01  7.73697853e-02]\n",
      " [-4.87322742e-01 -1.85242909e+00  2.49265266e-01  4.05202053e-02]\n",
      " [ 9.27901638e-01  3.22260779e-02 -5.96169361e-01  2.98796094e-02]\n",
      " [ 1.14261887e-02 -1.03401828e+00  5.38899390e-01  2.84611837e-02]\n",
      " [-1.10196280e-01 -2.65407282e+00 -4.67904441e-02 -1.37607310e-02]\n",
      " [ 4.40693449e-01 -6.32951884e-02  2.05073815e-01 -4.01260816e-02]\n",
      " [ 5.62108306e-01 -1.76472438e+00 -7.65771394e-01 -4.57311573e-02]\n",
      " [ 7.19561889e-01 -1.86224606e-01 -6.86589454e-02  1.64807198e-01]\n",
      " [-3.33547032e-02 -4.39003210e-01  1.94932893e-01 -1.09048499e-01]\n",
      " [ 8.75407191e-01  5.09063957e-01 -5.03511382e-01 -1.04943723e-01]\n",
      " [ 3.50251668e-01 -1.96311735e-01  4.90873075e-01  1.91509364e-01]\n",
      " [ 1.58810048e-01 -7.92095742e-01 -3.02037174e-01  2.05297735e-01]\n",
      " [ 1.22509363e+00 -1.62224380e+00 -4.82304024e-01 -2.25899769e-01]\n",
      " [ 1.64917899e-01 -1.30260923e+00 -1.72837808e-01  5.17268487e-02]\n",
      " [ 7.37682649e-01  3.96571562e-01  6.16526306e-01  8.32841227e-02]\n",
      " [ 4.76287191e-01 -4.17320281e-01 -2.64952227e-01 -1.13568273e-01]\n",
      " [ 1.23417810e+00 -9.33325729e-01 -3.68412272e-01  9.94452551e-03]\n",
      " [ 6.32858200e-01 -4.16387721e-01 -2.91896252e-01  2.74220152e-01]\n",
      " [ 7.02661183e-01 -6.34118197e-02 -4.46027008e-01 -4.34583252e-02]\n",
      " [ 8.74273654e-01  2.50793393e-01 -4.72578954e-01 -1.01715736e-01]\n",
      " [ 1.25650912e+00 -7.72560197e-02 -7.27155002e-01 -3.96885184e-02]\n",
      " [ 1.35840512e+00  3.31311682e-01 -2.60826577e-01 -6.68280639e-02]\n",
      " [ 6.64800367e-01 -2.25927855e-01  8.58638887e-02  3.64398401e-02]\n",
      " [-4.02586109e-02 -1.05871855e+00 -3.19573330e-01 -6.47881557e-02]\n",
      " [ 1.30795175e-01 -1.56227183e+00 -1.49983478e-01  9.40252286e-03]\n",
      " [ 2.34526890e-02 -1.57247559e+00 -2.41552281e-01  3.27724444e-02]\n",
      " [ 2.41538273e-01 -7.77256383e-01 -1.51211957e-01 -2.36513599e-02]\n",
      " [ 1.06109461e+00 -6.33843245e-01  1.05311387e-01  1.83968453e-01]\n",
      " [ 2.23978774e-01 -2.87773512e-01  6.65249720e-01  2.54828368e-01]\n",
      " [ 4.29139116e-01  8.45582241e-01  4.50634071e-01  1.09675181e-01]\n",
      " [ 1.04872805e+00  5.22051797e-01 -3.95786384e-01 -3.72090187e-02]\n",
      " [ 1.04453138e+00 -1.38298872e+00 -6.88295960e-01 -1.36835600e-01]\n",
      " [ 6.95883211e-02 -2.19503335e-01  2.91579274e-01  1.47144581e-01]\n",
      " [ 2.83477238e-01 -1.32932464e+00  8.94100229e-02 -8.90580520e-03]\n",
      " [ 2.79077776e-01 -1.12002852e+00  9.44876010e-02  2.70657196e-01]\n",
      " [ 6.24569791e-01  2.49230293e-02 -2.04811472e-02  1.47686401e-01]\n",
      " [ 3.36530370e-01 -9.88404018e-01 -1.99389755e-01 -6.53056201e-03]\n",
      " [-3.62183385e-01 -2.01923787e+00  1.05821048e-01 -1.95708119e-02]\n",
      " [ 2.88586239e-01 -8.55730320e-01  1.30889685e-01  1.07402349e-01]\n",
      " [ 9.13606557e-02 -1.81192126e-01  1.28978343e-01  2.29959626e-01]\n",
      " [ 2.27716866e-01 -3.84920081e-01  1.56213154e-01  1.32605877e-01]\n",
      " [ 5.76388289e-01 -1.54873597e-01 -2.71650362e-01  1.98606790e-02]\n",
      " [-4.47667019e-01 -1.54379203e+00  1.90400930e-01 -1.99946457e-01]\n",
      " [ 2.56730589e-01 -5.98851796e-01  9.18791610e-02  5.86220486e-02]\n",
      " [ 1.84456887e+00  8.70421312e-01  1.00540102e+00  4.92497432e-02]\n",
      " [ 1.15788161e+00 -6.98869862e-01  5.30160149e-01  4.05207540e-02]\n",
      " [ 2.20526679e+00  5.62010477e-01 -2.02914170e-01 -5.91841937e-02]\n",
      " [ 1.44015066e+00 -4.69875881e-02  1.63630107e-01  2.35770073e-01]\n",
      " [ 1.86781222e+00  2.95044824e-01  3.95628375e-01  1.62982715e-02]\n",
      " [ 2.75187334e+00  8.00409201e-01 -5.82309103e-01  1.01384486e-01]\n",
      " [ 3.67017688e-01 -1.56150289e+00  9.86893267e-01  1.33123834e-01]\n",
      " [ 2.30243944e+00  4.20065580e-01 -6.51706439e-01  2.38041242e-01]\n",
      " [ 2.00668647e+00 -7.11438654e-01 -3.93990571e-01  8.65106302e-02]\n",
      " [ 2.25977735e+00  1.92101038e+00  3.97551897e-01 -1.04838918e-01]\n",
      " [ 1.36417549e+00  6.92756454e-01  2.84612074e-01 -1.07860420e-01]\n",
      " [ 1.60267867e+00 -4.21700450e-01  2.31864079e-02 -5.83316327e-02]\n",
      " [ 1.88390070e+00  4.19249651e-01  2.63384095e-02 -1.46414939e-01]\n",
      " [ 1.26011510e+00 -1.16226042e+00  5.80249290e-01 -9.91573214e-02]\n",
      " [ 1.46764520e+00 -4.42271587e-01  1.00386957e+00 -2.75658903e-01]\n",
      " [ 1.59007732e+00  6.76244806e-01  6.38428708e-01 -1.91862996e-01]\n",
      " [ 1.47143146e+00  2.55621824e-01  3.74312599e-02  1.55330271e-01]\n",
      " [ 2.42632899e+00  2.55666125e+00 -1.27881459e-01  2.73807183e-01]\n",
      " [ 3.31069558e+00  1.77809493e-02 -7.03305304e-01 -4.51886059e-02]\n",
      " [ 1.26376667e+00 -1.70674538e+00 -2.67536893e-01  6.51807997e-02]\n",
      " [ 2.03771630e+00  9.10467410e-01  2.34799484e-01 -1.67951254e-01]\n",
      " [ 9.77980734e-01 -5.71764325e-01  8.28127201e-01 -2.77555871e-02]\n",
      " [ 2.89765149e+00  4.13641060e-01 -8.57421825e-01  1.27336502e-01]\n",
      " [ 1.33323218e+00 -4.81811219e-01 -5.42836383e-03 -1.39959148e-01]\n",
      " [ 1.70073390e+00  1.01392187e+00  2.98450613e-01  6.16437339e-02]\n",
      " [ 1.95432671e+00  1.00777760e+00 -4.19984722e-01  2.18338351e-01]\n",
      " [ 1.17510363e+00 -3.16394472e-01  1.29937757e-01 -1.25420444e-01]\n",
      " [ 1.02095055e+00  6.43460292e-02  3.37715967e-01  8.65440136e-03]\n",
      " [ 1.78834992e+00 -1.87361215e-01  2.70658006e-01 -3.10876478e-02]\n",
      " [ 1.86364755e+00  5.62290726e-01 -7.15634119e-01  2.08215164e-01]\n",
      " [ 2.43595373e+00  2.59284433e-01 -7.27816146e-01  1.79233648e-02]\n",
      " [ 2.30492772e+00  2.62632347e+00 -4.93473808e-01  2.11675709e-01]\n",
      " [ 1.86270322e+00 -1.78549495e-01  3.54148712e-01 -1.00009882e-01]\n",
      " [ 1.11414774e+00 -2.92922623e-01 -1.83488392e-01  1.86343697e-01]\n",
      " [ 1.20247330e+00 -8.11315271e-01 -1.64723757e-01  4.89483470e-01]\n",
      " [ 2.79877045e+00  8.56803329e-01 -5.42906499e-01 -2.95881050e-01]\n",
      " [ 1.57625591e+00  1.06858111e+00  9.45853819e-01 -3.56057591e-02]\n",
      " [ 1.34629210e+00  4.22430611e-01  1.80875478e-01  2.15421288e-01]\n",
      " [ 9.24824917e-01  1.72231005e-02  4.16826193e-01 -5.23840949e-03]\n",
      " [ 1.85204505e+00  6.76128174e-01 -1.26721148e-02 -1.95195239e-01]\n",
      " [ 2.01481043e+00  6.13885637e-01  4.28332842e-01 -2.47538313e-01]\n",
      " [ 1.90178409e+00  6.89575494e-01  1.30075005e-01 -4.69696647e-01]\n",
      " [ 1.15788161e+00 -6.98869862e-01  5.30160149e-01  4.05207540e-02]\n",
      " [ 2.04055823e+00  8.67520601e-01  3.38144000e-01 -4.51871263e-02]\n",
      " [ 1.99814710e+00  1.04916875e+00  6.32413436e-01 -2.14045204e-01]\n",
      " [ 1.87050329e+00  3.86966082e-01  2.56273852e-01 -3.89256845e-01]\n",
      " [ 1.56458048e+00 -8.96686809e-01 -2.63713516e-02 -2.20192100e-01]\n",
      " [ 1.52117050e+00  2.69069144e-01  1.80178380e-01 -1.19171137e-01]\n",
      " [ 1.37278779e+00  1.01125442e+00  9.33395241e-01 -2.61286484e-02]\n",
      " [ 9.60656030e-01 -2.43316682e-02  5.28248807e-01  1.63078032e-01]]\n"
     ]
    }
   ],
   "source": [
    "# On standardise les valeurs\n",
    "scaler = StandardScaler()\n",
    "X_scaled = scaler.fit_transform(iris.data)\n",
    "#On effectue l'ACP; \n",
    "pca = PCA()\n",
    "#Chacune des observations est projetée dans les nouvelles dimensions\n",
    "reduced_iris = pca.fit_transform(X_scaled)\n",
    "#Jeu de données original\n",
    "print(iris.data)\n",
    "# Jeu de données dans les nouvelles dimensions\n",
    "print(reduced_iris)"
   ]
  },
  {
   "cell_type": "markdown",
   "id": "bf9f81fe",
   "metadata": {},
   "source": [
    "On peut interpréter les poids de chacune des variables dans les composantes. Ainsi, les observations qui auront une valeur élevée sur la CP1 sont des observation avec une longueur de pétale élevée.\n",
    "Les observation ayant une valeur élevée sur la 2e composante ont une longueur et largeur de feuille élevée.\n",
    "Les observation ayant une valeur élevée sur la 3e composante ont une longueur  de feuille faible et largeur de feuille et de pétale élevée."
   ]
  },
  {
   "cell_type": "code",
   "execution_count": 5,
   "id": "37ad9d01",
   "metadata": {},
   "outputs": [
    {
     "data": {
      "text/html": [
       "<div>\n",
       "<style scoped>\n",
       "    .dataframe tbody tr th:only-of-type {\n",
       "        vertical-align: middle;\n",
       "    }\n",
       "\n",
       "    .dataframe tbody tr th {\n",
       "        vertical-align: top;\n",
       "    }\n",
       "\n",
       "    .dataframe thead th {\n",
       "        text-align: right;\n",
       "    }\n",
       "</style>\n",
       "<table border=\"1\" class=\"dataframe\">\n",
       "  <thead>\n",
       "    <tr style=\"text-align: right;\">\n",
       "      <th></th>\n",
       "      <th>sepal length (cm)</th>\n",
       "      <th>sepal width (cm)</th>\n",
       "      <th>petal length (cm)</th>\n",
       "      <th>petal width (cm)</th>\n",
       "    </tr>\n",
       "  </thead>\n",
       "  <tbody>\n",
       "    <tr>\n",
       "      <th>CP1</th>\n",
       "      <td>0.521066</td>\n",
       "      <td>-0.269347</td>\n",
       "      <td>0.580413</td>\n",
       "      <td>0.564857</td>\n",
       "    </tr>\n",
       "    <tr>\n",
       "      <th>CP2</th>\n",
       "      <td>0.377418</td>\n",
       "      <td>0.923296</td>\n",
       "      <td>0.024492</td>\n",
       "      <td>0.066942</td>\n",
       "    </tr>\n",
       "    <tr>\n",
       "      <th>CP3</th>\n",
       "      <td>-0.719566</td>\n",
       "      <td>0.244382</td>\n",
       "      <td>0.142126</td>\n",
       "      <td>0.634273</td>\n",
       "    </tr>\n",
       "    <tr>\n",
       "      <th>CP4</th>\n",
       "      <td>-0.261286</td>\n",
       "      <td>0.123510</td>\n",
       "      <td>0.801449</td>\n",
       "      <td>-0.523597</td>\n",
       "    </tr>\n",
       "  </tbody>\n",
       "</table>\n",
       "</div>"
      ],
      "text/plain": [
       "     sepal length (cm)  sepal width (cm)  petal length (cm)  petal width (cm)\n",
       "CP1           0.521066         -0.269347           0.580413          0.564857\n",
       "CP2           0.377418          0.923296           0.024492          0.066942\n",
       "CP3          -0.719566          0.244382           0.142126          0.634273\n",
       "CP4          -0.261286          0.123510           0.801449         -0.523597"
      ]
     },
     "execution_count": 5,
     "metadata": {},
     "output_type": "execute_result"
    }
   ],
   "source": [
    "#Interprétation des composantes\n",
    "# Pour chacune des composantes, on a le poids de chacune des variables\n",
    "poids_composante=pd.DataFrame(data=pca.components_,index=['CP1','CP2','CP3','CP4'],\n",
    "                              columns=iris.feature_names)\n",
    "poids_composante"
   ]
  },
  {
   "cell_type": "markdown",
   "id": "cdeacbfa",
   "metadata": {},
   "source": [
    "On peut trouver la variance expliquée par chacune des composantes avec l'attribut `explained_variance_ratio_`\n",
    "On a 72% de la variance du jeu de données capturée par la première composante"
   ]
  },
  {
   "cell_type": "code",
   "execution_count": 6,
   "id": "9682f59e",
   "metadata": {},
   "outputs": [
    {
     "name": "stdout",
     "output_type": "stream",
     "text": [
      "[0.72962445 0.22850762 0.03668922 0.00517871]\n"
     ]
    }
   ],
   "source": [
    "# La variance expliqué par chacune des composantes\n",
    "print(pca.explained_variance_ratio_)"
   ]
  },
  {
   "cell_type": "markdown",
   "id": "9b30627e",
   "metadata": {},
   "source": [
    "Représentation graphique des observations"
   ]
  },
  {
   "cell_type": "code",
   "execution_count": 7,
   "id": "6143017b",
   "metadata": {},
   "outputs": [
    {
     "data": {
      "text/plain": [
       "Text(0.5, 1.0, 'Données Iris en fonction des 2 premières composantes')"
      ]
     },
     "execution_count": 7,
     "metadata": {},
     "output_type": "execute_result"
    },
    {
     "data": {
      "image/png": "[encoded data removed]",
      "text/plain": [
       "<Figure size 800x600 with 1 Axes>"
      ]
     },
     "metadata": {},
     "output_type": "display_data"
    }
   ],
   "source": [
    "import seaborn as sns\n",
    "import matplotlib.pyplot as plt\n",
    "plt.figure(figsize=(8, 6))\n",
    "sns.scatterplot(x=reduced_iris[:,0],\n",
    "                y=reduced_iris[:,1],\n",
    "                hue=iris.target,\n",
    "                data=reduced_iris,\n",
    "                palette='Set1')\n",
    "plt.xlabel('1ere Composante')\n",
    "plt.ylabel('2e composante')\n",
    "plt.title('Données Iris en fonction des 2 premières composantes')"
   ]
  },
  {
   "cell_type": "markdown",
   "id": "8ab58ba8",
   "metadata": {},
   "source": [
    "**Exemple avec le jeu de données `climat.csv`**\n",
    "\n",
    "Le jeu de donnée `climat.csv` est un échantillon de données climatiques. On analysera les variables climatiques (température maximale moyenne et précipitations totales) de certaines stations météo canadiennes pour les mois de mars, juin, septembre et décembre 2010."
   ]
  },
  {
   "cell_type": "code",
   "execution_count": 8,
   "id": "7c0136a1",
   "metadata": {},
   "outputs": [
    {
     "data": {
      "text/html": [
       "<div>\n",
       "<style scoped>\n",
       "    .dataframe tbody tr th:only-of-type {\n",
       "        vertical-align: middle;\n",
       "    }\n",
       "\n",
       "    .dataframe tbody tr th {\n",
       "        vertical-align: top;\n",
       "    }\n",
       "\n",
       "    .dataframe thead th {\n",
       "        text-align: right;\n",
       "    }\n",
       "</style>\n",
       "<table border=\"1\" class=\"dataframe\">\n",
       "  <thead>\n",
       "    <tr style=\"text-align: right;\">\n",
       "      <th></th>\n",
       "      <th>location</th>\n",
       "      <th>longitude</th>\n",
       "      <th>latitude</th>\n",
       "      <th>elevation_m</th>\n",
       "      <th>province</th>\n",
       "      <th>tmax_mars</th>\n",
       "      <th>tmax_juin</th>\n",
       "      <th>tmax_sept</th>\n",
       "      <th>tmax_dec</th>\n",
       "      <th>precip_mars</th>\n",
       "      <th>precip_juin</th>\n",
       "      <th>precip_sept</th>\n",
       "      <th>precip_dec</th>\n",
       "    </tr>\n",
       "  </thead>\n",
       "  <tbody>\n",
       "    <tr>\n",
       "      <th>0</th>\n",
       "      <td>VICTORIA INT'L A BC 118</td>\n",
       "      <td>-123.43</td>\n",
       "      <td>48.65</td>\n",
       "      <td>19.51</td>\n",
       "      <td>BRITISH COLUMBIA</td>\n",
       "      <td>11.5</td>\n",
       "      <td>18.9</td>\n",
       "      <td>18.8</td>\n",
       "      <td>7.9</td>\n",
       "      <td>73.4</td>\n",
       "      <td>28.5</td>\n",
       "      <td>112.3</td>\n",
       "      <td>177.0</td>\n",
       "    </tr>\n",
       "    <tr>\n",
       "      <th>1</th>\n",
       "      <td>COMOX A BC 155</td>\n",
       "      <td>-124.90</td>\n",
       "      <td>49.72</td>\n",
       "      <td>25.60</td>\n",
       "      <td>BRITISH COLUMBIA</td>\n",
       "      <td>10.0</td>\n",
       "      <td>18.2</td>\n",
       "      <td>17.6</td>\n",
       "      <td>6.6</td>\n",
       "      <td>125.2</td>\n",
       "      <td>44.0</td>\n",
       "      <td>65.8</td>\n",
       "      <td>319.4</td>\n",
       "    </tr>\n",
       "    <tr>\n",
       "      <th>2</th>\n",
       "      <td>PORT HARDY A BC 202</td>\n",
       "      <td>-127.37</td>\n",
       "      <td>50.68</td>\n",
       "      <td>21.60</td>\n",
       "      <td>BRITISH COLUMBIA</td>\n",
       "      <td>9.2</td>\n",
       "      <td>14.9</td>\n",
       "      <td>15.2</td>\n",
       "      <td>6.2</td>\n",
       "      <td>189.6</td>\n",
       "      <td>62.6</td>\n",
       "      <td>281.8</td>\n",
       "      <td>288.8</td>\n",
       "    </tr>\n",
       "    <tr>\n",
       "      <th>3</th>\n",
       "      <td>TERRACE A BC 441</td>\n",
       "      <td>-128.58</td>\n",
       "      <td>54.47</td>\n",
       "      <td>217.30</td>\n",
       "      <td>BRITISH COLUMBIA</td>\n",
       "      <td>6.5</td>\n",
       "      <td>18.1</td>\n",
       "      <td>16.5</td>\n",
       "      <td>-1.0</td>\n",
       "      <td>156.0</td>\n",
       "      <td>58.9</td>\n",
       "      <td>160.3</td>\n",
       "      <td>95.3</td>\n",
       "    </tr>\n",
       "    <tr>\n",
       "      <th>4</th>\n",
       "      <td>WILLIAMS LAKE A BC 664</td>\n",
       "      <td>-122.05</td>\n",
       "      <td>52.18</td>\n",
       "      <td>939.70</td>\n",
       "      <td>BRITISH COLUMBIA</td>\n",
       "      <td>8.1</td>\n",
       "      <td>19.0</td>\n",
       "      <td>15.1</td>\n",
       "      <td>-1.7</td>\n",
       "      <td>10.2</td>\n",
       "      <td>38.7</td>\n",
       "      <td>35.2</td>\n",
       "      <td>14.4</td>\n",
       "    </tr>\n",
       "  </tbody>\n",
       "</table>\n",
       "</div>"
      ],
      "text/plain": [
       "                  location  longitude  latitude  elevation_m  \\\n",
       "0  VICTORIA INT'L A BC 118    -123.43     48.65        19.51   \n",
       "1           COMOX A BC 155    -124.90     49.72        25.60   \n",
       "2      PORT HARDY A BC 202    -127.37     50.68        21.60   \n",
       "3         TERRACE A BC 441    -128.58     54.47       217.30   \n",
       "4   WILLIAMS LAKE A BC 664    -122.05     52.18       939.70   \n",
       "\n",
       "           province  tmax_mars  tmax_juin  tmax_sept  tmax_dec  precip_mars  \\\n",
       "0  BRITISH COLUMBIA       11.5       18.9       18.8       7.9         73.4   \n",
       "1  BRITISH COLUMBIA       10.0       18.2       17.6       6.6        125.2   \n",
       "2  BRITISH COLUMBIA        9.2       14.9       15.2       6.2        189.6   \n",
       "3  BRITISH COLUMBIA        6.5       18.1       16.5      -1.0        156.0   \n",
       "4  BRITISH COLUMBIA        8.1       19.0       15.1      -1.7         10.2   \n",
       "\n",
       "   precip_juin  precip_sept  precip_dec  \n",
       "0         28.5        112.3       177.0  \n",
       "1         44.0         65.8       319.4  \n",
       "2         62.6        281.8       288.8  \n",
       "3         58.9        160.3        95.3  \n",
       "4         38.7         35.2        14.4  "
      ]
     },
     "execution_count": 8,
     "metadata": {},
     "output_type": "execute_result"
    }
   ],
   "source": [
    "# Importation du fichier\n",
    "climat=pd.read_csv('climat.csv')\n",
    "climat.head()"
   ]
  },
  {
   "cell_type": "code",
   "execution_count": 9,
   "id": "872449c4",
   "metadata": {},
   "outputs": [
    {
     "data": {
      "text/html": [
       "<div>\n",
       "<style scoped>\n",
       "    .dataframe tbody tr th:only-of-type {\n",
       "        vertical-align: middle;\n",
       "    }\n",
       "\n",
       "    .dataframe tbody tr th {\n",
       "        vertical-align: top;\n",
       "    }\n",
       "\n",
       "    .dataframe thead th {\n",
       "        text-align: right;\n",
       "    }\n",
       "</style>\n",
       "<table border=\"1\" class=\"dataframe\">\n",
       "  <thead>\n",
       "    <tr style=\"text-align: right;\">\n",
       "      <th></th>\n",
       "      <th>tmax_mars</th>\n",
       "      <th>tmax_juin</th>\n",
       "      <th>tmax_sept</th>\n",
       "      <th>tmax_dec</th>\n",
       "      <th>precip_mars</th>\n",
       "      <th>precip_juin</th>\n",
       "      <th>precip_sept</th>\n",
       "      <th>precip_dec</th>\n",
       "    </tr>\n",
       "  </thead>\n",
       "  <tbody>\n",
       "    <tr>\n",
       "      <th>0</th>\n",
       "      <td>11.5</td>\n",
       "      <td>18.9</td>\n",
       "      <td>18.8</td>\n",
       "      <td>7.9</td>\n",
       "      <td>73.4</td>\n",
       "      <td>28.5</td>\n",
       "      <td>112.3</td>\n",
       "      <td>177.0</td>\n",
       "    </tr>\n",
       "    <tr>\n",
       "      <th>1</th>\n",
       "      <td>10.0</td>\n",
       "      <td>18.2</td>\n",
       "      <td>17.6</td>\n",
       "      <td>6.6</td>\n",
       "      <td>125.2</td>\n",
       "      <td>44.0</td>\n",
       "      <td>65.8</td>\n",
       "      <td>319.4</td>\n",
       "    </tr>\n",
       "    <tr>\n",
       "      <th>2</th>\n",
       "      <td>9.2</td>\n",
       "      <td>14.9</td>\n",
       "      <td>15.2</td>\n",
       "      <td>6.2</td>\n",
       "      <td>189.6</td>\n",
       "      <td>62.6</td>\n",
       "      <td>281.8</td>\n",
       "      <td>288.8</td>\n",
       "    </tr>\n",
       "    <tr>\n",
       "      <th>3</th>\n",
       "      <td>6.5</td>\n",
       "      <td>18.1</td>\n",
       "      <td>16.5</td>\n",
       "      <td>-1.0</td>\n",
       "      <td>156.0</td>\n",
       "      <td>58.9</td>\n",
       "      <td>160.3</td>\n",
       "      <td>95.3</td>\n",
       "    </tr>\n",
       "    <tr>\n",
       "      <th>4</th>\n",
       "      <td>8.1</td>\n",
       "      <td>19.0</td>\n",
       "      <td>15.1</td>\n",
       "      <td>-1.7</td>\n",
       "      <td>10.2</td>\n",
       "      <td>38.7</td>\n",
       "      <td>35.2</td>\n",
       "      <td>14.4</td>\n",
       "    </tr>\n",
       "    <tr>\n",
       "      <th>...</th>\n",
       "      <td>...</td>\n",
       "      <td>...</td>\n",
       "      <td>...</td>\n",
       "      <td>...</td>\n",
       "      <td>...</td>\n",
       "      <td>...</td>\n",
       "      <td>...</td>\n",
       "      <td>...</td>\n",
       "    </tr>\n",
       "    <tr>\n",
       "      <th>184</th>\n",
       "      <td>2.6</td>\n",
       "      <td>15.5</td>\n",
       "      <td>17.3</td>\n",
       "      <td>5.1</td>\n",
       "      <td>251.6</td>\n",
       "      <td>122.1</td>\n",
       "      <td>253.0</td>\n",
       "      <td>326.9</td>\n",
       "    </tr>\n",
       "    <tr>\n",
       "      <th>185</th>\n",
       "      <td>2.9</td>\n",
       "      <td>16.1</td>\n",
       "      <td>17.3</td>\n",
       "      <td>7.1</td>\n",
       "      <td>28.0</td>\n",
       "      <td>153.0</td>\n",
       "      <td>107.6</td>\n",
       "      <td>34.4</td>\n",
       "    </tr>\n",
       "    <tr>\n",
       "      <th>186</th>\n",
       "      <td>-1.5</td>\n",
       "      <td>13.6</td>\n",
       "      <td>13.7</td>\n",
       "      <td>2.9</td>\n",
       "      <td>30.8</td>\n",
       "      <td>161.0</td>\n",
       "      <td>54.8</td>\n",
       "      <td>116.5</td>\n",
       "    </tr>\n",
       "    <tr>\n",
       "      <th>187</th>\n",
       "      <td>-0.9</td>\n",
       "      <td>16.0</td>\n",
       "      <td>14.7</td>\n",
       "      <td>0.9</td>\n",
       "      <td>24.2</td>\n",
       "      <td>162.4</td>\n",
       "      <td>57.8</td>\n",
       "      <td>45.8</td>\n",
       "    </tr>\n",
       "    <tr>\n",
       "      <th>188</th>\n",
       "      <td>-4.6</td>\n",
       "      <td>9.6</td>\n",
       "      <td>12.9</td>\n",
       "      <td>-0.3</td>\n",
       "      <td>31.8</td>\n",
       "      <td>122.4</td>\n",
       "      <td>19.8</td>\n",
       "      <td>69.4</td>\n",
       "    </tr>\n",
       "  </tbody>\n",
       "</table>\n",
       "<p>189 rows × 8 columns</p>\n",
       "</div>"
      ],
      "text/plain": [
       "     tmax_mars  tmax_juin  tmax_sept  tmax_dec  precip_mars  precip_juin  \\\n",
       "0         11.5       18.9       18.8       7.9         73.4         28.5   \n",
       "1         10.0       18.2       17.6       6.6        125.2         44.0   \n",
       "2          9.2       14.9       15.2       6.2        189.6         62.6   \n",
       "3          6.5       18.1       16.5      -1.0        156.0         58.9   \n",
       "4          8.1       19.0       15.1      -1.7         10.2         38.7   \n",
       "..         ...        ...        ...       ...          ...          ...   \n",
       "184        2.6       15.5       17.3       5.1        251.6        122.1   \n",
       "185        2.9       16.1       17.3       7.1         28.0        153.0   \n",
       "186       -1.5       13.6       13.7       2.9         30.8        161.0   \n",
       "187       -0.9       16.0       14.7       0.9         24.2        162.4   \n",
       "188       -4.6        9.6       12.9      -0.3         31.8        122.4   \n",
       "\n",
       "     precip_sept  precip_dec  \n",
       "0          112.3       177.0  \n",
       "1           65.8       319.4  \n",
       "2          281.8       288.8  \n",
       "3          160.3        95.3  \n",
       "4           35.2        14.4  \n",
       "..           ...         ...  \n",
       "184        253.0       326.9  \n",
       "185        107.6        34.4  \n",
       "186         54.8       116.5  \n",
       "187         57.8        45.8  \n",
       "188         19.8        69.4  \n",
       "\n",
       "[189 rows x 8 columns]"
      ]
     },
     "execution_count": 9,
     "metadata": {},
     "output_type": "execute_result"
    }
   ],
   "source": [
    "# On garde nos variables d'intérêt pour l'ACP\n",
    "X=climat.loc[:,'tmax_mars':'precip_dec']\n",
    "X"
   ]
  },
  {
   "cell_type": "code",
   "execution_count": 10,
   "id": "ac54c51d",
   "metadata": {},
   "outputs": [],
   "source": [
    "# On standardise\n",
    "scaler = StandardScaler()\n",
    "X_scaled = scaler.fit_transform(X)"
   ]
  },
  {
   "cell_type": "code",
   "execution_count": 11,
   "id": "42fddf2f",
   "metadata": {},
   "outputs": [],
   "source": [
    "#On effectue l'ACP; \n",
    "pca = PCA()\n",
    "#Chacune des observations est projetée dans les nouvelles dimensions\n",
    "reduced_climat = pca.fit_transform(X_scaled)"
   ]
  },
  {
   "cell_type": "code",
   "execution_count": 12,
   "id": "b6824b01",
   "metadata": {},
   "outputs": [
    {
     "data": {
      "text/html": [
       "<div>\n",
       "<style scoped>\n",
       "    .dataframe tbody tr th:only-of-type {\n",
       "        vertical-align: middle;\n",
       "    }\n",
       "\n",
       "    .dataframe tbody tr th {\n",
       "        vertical-align: top;\n",
       "    }\n",
       "\n",
       "    .dataframe thead th {\n",
       "        text-align: right;\n",
       "    }\n",
       "</style>\n",
       "<table border=\"1\" class=\"dataframe\">\n",
       "  <thead>\n",
       "    <tr style=\"text-align: right;\">\n",
       "      <th></th>\n",
       "      <th>CP1</th>\n",
       "      <th>CP2</th>\n",
       "      <th>CP3</th>\n",
       "      <th>CP4</th>\n",
       "      <th>CP5</th>\n",
       "      <th>CP6</th>\n",
       "      <th>CP7</th>\n",
       "      <th>CP8</th>\n",
       "    </tr>\n",
       "  </thead>\n",
       "  <tbody>\n",
       "    <tr>\n",
       "      <th>tmax_mars</th>\n",
       "      <td>-0.406981</td>\n",
       "      <td>-0.334929</td>\n",
       "      <td>-0.122998</td>\n",
       "      <td>0.289809</td>\n",
       "      <td>-0.090379</td>\n",
       "      <td>0.021559</td>\n",
       "      <td>0.757888</td>\n",
       "      <td>-0.200111</td>\n",
       "    </tr>\n",
       "    <tr>\n",
       "      <th>tmax_juin</th>\n",
       "      <td>-0.347636</td>\n",
       "      <td>-0.483793</td>\n",
       "      <td>-0.088713</td>\n",
       "      <td>-0.056450</td>\n",
       "      <td>-0.399524</td>\n",
       "      <td>0.115350</td>\n",
       "      <td>-0.280989</td>\n",
       "      <td>0.618189</td>\n",
       "    </tr>\n",
       "    <tr>\n",
       "      <th>tmax_sept</th>\n",
       "      <td>-0.455809</td>\n",
       "      <td>-0.226672</td>\n",
       "      <td>0.089104</td>\n",
       "      <td>0.121519</td>\n",
       "      <td>0.012944</td>\n",
       "      <td>-0.010385</td>\n",
       "      <td>-0.546142</td>\n",
       "      <td>-0.647770</td>\n",
       "    </tr>\n",
       "    <tr>\n",
       "      <th>tmax_dec</th>\n",
       "      <td>-0.393545</td>\n",
       "      <td>0.203264</td>\n",
       "      <td>-0.088241</td>\n",
       "      <td>0.404548</td>\n",
       "      <td>0.686356</td>\n",
       "      <td>-0.096154</td>\n",
       "      <td>-0.106933</td>\n",
       "      <td>0.374960</td>\n",
       "    </tr>\n",
       "    <tr>\n",
       "      <th>precip_mars</th>\n",
       "      <td>-0.272674</td>\n",
       "      <td>0.497943</td>\n",
       "      <td>0.302230</td>\n",
       "      <td>0.209280</td>\n",
       "      <td>-0.503888</td>\n",
       "      <td>-0.530806</td>\n",
       "      <td>0.019014</td>\n",
       "      <td>0.080868</td>\n",
       "    </tr>\n",
       "    <tr>\n",
       "      <th>precip_juin</th>\n",
       "      <td>-0.317344</td>\n",
       "      <td>0.024257</td>\n",
       "      <td>0.730327</td>\n",
       "      <td>-0.479599</td>\n",
       "      <td>0.207673</td>\n",
       "      <td>0.233099</td>\n",
       "      <td>0.179909</td>\n",
       "      <td>0.074033</td>\n",
       "    </tr>\n",
       "    <tr>\n",
       "      <th>precip_sept</th>\n",
       "      <td>-0.327265</td>\n",
       "      <td>0.127251</td>\n",
       "      <td>-0.511392</td>\n",
       "      <td>-0.678470</td>\n",
       "      <td>0.098407</td>\n",
       "      <td>-0.371130</td>\n",
       "      <td>0.063954</td>\n",
       "      <td>-0.057873</td>\n",
       "    </tr>\n",
       "    <tr>\n",
       "      <th>precip_dec</th>\n",
       "      <td>-0.262137</td>\n",
       "      <td>0.544372</td>\n",
       "      <td>-0.273920</td>\n",
       "      <td>0.016221</td>\n",
       "      <td>-0.232905</td>\n",
       "      <td>0.709259</td>\n",
       "      <td>-0.011265</td>\n",
       "      <td>-0.047200</td>\n",
       "    </tr>\n",
       "  </tbody>\n",
       "</table>\n",
       "</div>"
      ],
      "text/plain": [
       "                  CP1       CP2       CP3       CP4       CP5       CP6  \\\n",
       "tmax_mars   -0.406981 -0.334929 -0.122998  0.289809 -0.090379  0.021559   \n",
       "tmax_juin   -0.347636 -0.483793 -0.088713 -0.056450 -0.399524  0.115350   \n",
       "tmax_sept   -0.455809 -0.226672  0.089104  0.121519  0.012944 -0.010385   \n",
       "tmax_dec    -0.393545  0.203264 -0.088241  0.404548  0.686356 -0.096154   \n",
       "precip_mars -0.272674  0.497943  0.302230  0.209280 -0.503888 -0.530806   \n",
       "precip_juin -0.317344  0.024257  0.730327 -0.479599  0.207673  0.233099   \n",
       "precip_sept -0.327265  0.127251 -0.511392 -0.678470  0.098407 -0.371130   \n",
       "precip_dec  -0.262137  0.544372 -0.273920  0.016221 -0.232905  0.709259   \n",
       "\n",
       "                  CP7       CP8  \n",
       "tmax_mars    0.757888 -0.200111  \n",
       "tmax_juin   -0.280989  0.618189  \n",
       "tmax_sept   -0.546142 -0.647770  \n",
       "tmax_dec    -0.106933  0.374960  \n",
       "precip_mars  0.019014  0.080868  \n",
       "precip_juin  0.179909  0.074033  \n",
       "precip_sept  0.063954 -0.057873  \n",
       "precip_dec  -0.011265 -0.047200  "
      ]
     },
     "execution_count": 12,
     "metadata": {},
     "output_type": "execute_result"
    }
   ],
   "source": [
    "#Interprétation des composantes\n",
    "# Pour chacune des composantes, on a le poids de chacune des variables\n",
    "poids_composante=pd.DataFrame(data=pca.components_,index=[f'CP{i+1}' for i in range(pca.n_components_)],\n",
    "                              columns=X.columns)\n",
    "poids_composante.T"
   ]
  },
  {
   "cell_type": "markdown",
   "id": "b268c5a1",
   "metadata": {},
   "source": [
    "En triant le tableau précédent, on remarque que les villes qui ont une valeur très faibles sur la première composante sont celles où les températures maximales sont très élevées, particulièrement en septembre et en mars. Les précipitations y seront plutôt élevées, mais cet aspect est moins important pour cette composante que la température. La première composante oppose donc les températures froides aux températures plus élevées. Sur la deuxième composante, les villes aux scores élevés sont celles dont la température est basse en juin et en mars et le climat humide en mars et en décembre.\n",
    "Sur la deuxième composante, les villes aux scores élevés sont celles dont la température est basse en juin et en mars et le climat humide en mars et en décembre"
   ]
  },
  {
   "cell_type": "markdown",
   "id": "467008d0",
   "metadata": {},
   "source": [
    "Nous allons représenter les observations sur les 2 premières composantes principales."
   ]
  },
  {
   "cell_type": "code",
   "execution_count": 13,
   "id": "31a83f91",
   "metadata": {},
   "outputs": [
    {
     "name": "stderr",
     "output_type": "stream",
     "text": [
      "C:\\Users\\Catherine\\AppData\\Local\\Temp\\ipykernel_34840\\745147304.py:2: UserWarning: Ignoring `palette` because no `hue` variable has been assigned.\n",
      "  sns.scatterplot(x=reduced_climat[:,0],\n"
     ]
    },
    {
     "data": {
      "text/plain": [
       "Text(0.5, 1.0, 'Données Climat en fonction des 2 premières composantes')"
      ]
     },
     "execution_count": 13,
     "metadata": {},
     "output_type": "execute_result"
    },
    {
     "data": {
      "image/png": "[encoded data removed]",
      "text/plain": [
       "<Figure size 800x600 with 1 Axes>"
      ]
     },
     "metadata": {},
     "output_type": "display_data"
    }
   ],
   "source": [
    "plt.figure(figsize=(8, 6))\n",
    "sns.scatterplot(x=reduced_climat[:,0],\n",
    "                y=reduced_climat[:,1],\n",
    "                palette='Set1')\n",
    "plt.xlabel('1ere Composante')\n",
    "plt.ylabel('2e composante')\n",
    "plt.title('Données Climat en fonction des 2 premières composantes')"
   ]
  },
  {
   "cell_type": "markdown",
   "id": "0f1bf818",
   "metadata": {},
   "source": [
    "Afin de faciliter l'interprétation nous allons regrouper les provinces en région et attribuer une couleur aux observations en fonction de leur région."
   ]
  },
  {
   "cell_type": "code",
   "execution_count": 14,
   "id": "eb237b13",
   "metadata": {},
   "outputs": [
    {
     "data": {
      "text/html": [
       "<div>\n",
       "<style scoped>\n",
       "    .dataframe tbody tr th:only-of-type {\n",
       "        vertical-align: middle;\n",
       "    }\n",
       "\n",
       "    .dataframe tbody tr th {\n",
       "        vertical-align: top;\n",
       "    }\n",
       "\n",
       "    .dataframe thead th {\n",
       "        text-align: right;\n",
       "    }\n",
       "</style>\n",
       "<table border=\"1\" class=\"dataframe\">\n",
       "  <thead>\n",
       "    <tr style=\"text-align: right;\">\n",
       "      <th></th>\n",
       "      <th>location</th>\n",
       "      <th>longitude</th>\n",
       "      <th>latitude</th>\n",
       "      <th>elevation_m</th>\n",
       "      <th>province</th>\n",
       "      <th>tmax_mars</th>\n",
       "      <th>tmax_juin</th>\n",
       "      <th>tmax_sept</th>\n",
       "      <th>tmax_dec</th>\n",
       "      <th>precip_mars</th>\n",
       "      <th>precip_juin</th>\n",
       "      <th>precip_sept</th>\n",
       "      <th>precip_dec</th>\n",
       "      <th>region</th>\n",
       "    </tr>\n",
       "  </thead>\n",
       "  <tbody>\n",
       "    <tr>\n",
       "      <th>0</th>\n",
       "      <td>VICTORIA INT'L A BC 118</td>\n",
       "      <td>-123.43</td>\n",
       "      <td>48.65</td>\n",
       "      <td>19.51</td>\n",
       "      <td>BRITISH COLUMBIA</td>\n",
       "      <td>11.5</td>\n",
       "      <td>18.9</td>\n",
       "      <td>18.8</td>\n",
       "      <td>7.9</td>\n",
       "      <td>73.4</td>\n",
       "      <td>28.5</td>\n",
       "      <td>112.3</td>\n",
       "      <td>177.0</td>\n",
       "      <td>BC</td>\n",
       "    </tr>\n",
       "    <tr>\n",
       "      <th>1</th>\n",
       "      <td>COMOX A BC 155</td>\n",
       "      <td>-124.90</td>\n",
       "      <td>49.72</td>\n",
       "      <td>25.60</td>\n",
       "      <td>BRITISH COLUMBIA</td>\n",
       "      <td>10.0</td>\n",
       "      <td>18.2</td>\n",
       "      <td>17.6</td>\n",
       "      <td>6.6</td>\n",
       "      <td>125.2</td>\n",
       "      <td>44.0</td>\n",
       "      <td>65.8</td>\n",
       "      <td>319.4</td>\n",
       "      <td>BC</td>\n",
       "    </tr>\n",
       "    <tr>\n",
       "      <th>2</th>\n",
       "      <td>PORT HARDY A BC 202</td>\n",
       "      <td>-127.37</td>\n",
       "      <td>50.68</td>\n",
       "      <td>21.60</td>\n",
       "      <td>BRITISH COLUMBIA</td>\n",
       "      <td>9.2</td>\n",
       "      <td>14.9</td>\n",
       "      <td>15.2</td>\n",
       "      <td>6.2</td>\n",
       "      <td>189.6</td>\n",
       "      <td>62.6</td>\n",
       "      <td>281.8</td>\n",
       "      <td>288.8</td>\n",
       "      <td>BC</td>\n",
       "    </tr>\n",
       "    <tr>\n",
       "      <th>3</th>\n",
       "      <td>TERRACE A BC 441</td>\n",
       "      <td>-128.58</td>\n",
       "      <td>54.47</td>\n",
       "      <td>217.30</td>\n",
       "      <td>BRITISH COLUMBIA</td>\n",
       "      <td>6.5</td>\n",
       "      <td>18.1</td>\n",
       "      <td>16.5</td>\n",
       "      <td>-1.0</td>\n",
       "      <td>156.0</td>\n",
       "      <td>58.9</td>\n",
       "      <td>160.3</td>\n",
       "      <td>95.3</td>\n",
       "      <td>BC</td>\n",
       "    </tr>\n",
       "    <tr>\n",
       "      <th>4</th>\n",
       "      <td>WILLIAMS LAKE A BC 664</td>\n",
       "      <td>-122.05</td>\n",
       "      <td>52.18</td>\n",
       "      <td>939.70</td>\n",
       "      <td>BRITISH COLUMBIA</td>\n",
       "      <td>8.1</td>\n",
       "      <td>19.0</td>\n",
       "      <td>15.1</td>\n",
       "      <td>-1.7</td>\n",
       "      <td>10.2</td>\n",
       "      <td>38.7</td>\n",
       "      <td>35.2</td>\n",
       "      <td>14.4</td>\n",
       "      <td>BC</td>\n",
       "    </tr>\n",
       "  </tbody>\n",
       "</table>\n",
       "</div>"
      ],
      "text/plain": [
       "                  location  longitude  latitude  elevation_m  \\\n",
       "0  VICTORIA INT'L A BC 118    -123.43     48.65        19.51   \n",
       "1           COMOX A BC 155    -124.90     49.72        25.60   \n",
       "2      PORT HARDY A BC 202    -127.37     50.68        21.60   \n",
       "3         TERRACE A BC 441    -128.58     54.47       217.30   \n",
       "4   WILLIAMS LAKE A BC 664    -122.05     52.18       939.70   \n",
       "\n",
       "           province  tmax_mars  tmax_juin  tmax_sept  tmax_dec  precip_mars  \\\n",
       "0  BRITISH COLUMBIA       11.5       18.9       18.8       7.9         73.4   \n",
       "1  BRITISH COLUMBIA       10.0       18.2       17.6       6.6        125.2   \n",
       "2  BRITISH COLUMBIA        9.2       14.9       15.2       6.2        189.6   \n",
       "3  BRITISH COLUMBIA        6.5       18.1       16.5      -1.0        156.0   \n",
       "4  BRITISH COLUMBIA        8.1       19.0       15.1      -1.7         10.2   \n",
       "\n",
       "   precip_juin  precip_sept  precip_dec region  \n",
       "0         28.5        112.3       177.0     BC  \n",
       "1         44.0         65.8       319.4     BC  \n",
       "2         62.6        281.8       288.8     BC  \n",
       "3         58.9        160.3        95.3     BC  \n",
       "4         38.7         35.2        14.4     BC  "
      ]
     },
     "execution_count": 14,
     "metadata": {},
     "output_type": "execute_result"
    }
   ],
   "source": [
    "#Regroupement par région\n",
    "climat['region'] = climat['province'].apply(lambda x: \n",
    "    \"AB et SK\" if x in ['ALBERTA', 'SASKATCHEWAN'] else \n",
    "    \"BC\" if x in ['BRITISH COLUMBIA'] else \n",
    "    \"Centre\" if x in ['ONTARIO', 'MANITOBA', 'QUEBEC'] else \n",
    "    \"Maritimes\" if x in [\"NOVA SCOTIA\", \"PRINCE EDWARD ISLAND\", \"NEWFOUNDLAND\", \"NEW BRUNSWICK\"] else \n",
    "    \"Nord\" if x in [\"YUKON TERRITORY\", \"NORTHWEST TERRITORIES\", \"NUNAVUT\"] else \n",
    "    None  \n",
    ")\n",
    "\n",
    "climat.head()\n"
   ]
  },
  {
   "cell_type": "code",
   "execution_count": 15,
   "id": "70836759",
   "metadata": {},
   "outputs": [
    {
     "data": {
      "text/plain": [
       "Text(0.5, 1.0, 'Données Climat en fonction des 2 premières composantes')"
      ]
     },
     "execution_count": 15,
     "metadata": {},
     "output_type": "execute_result"
    },
    {
     "data": {
      "image/png": "[encoded data removed]",
      "text/plain": [
       "<Figure size 800x600 with 1 Axes>"
      ]
     },
     "metadata": {},
     "output_type": "display_data"
    }
   ],
   "source": [
    "plt.figure(figsize=(8, 6))\n",
    "sns.scatterplot(x=reduced_climat[:,0],\n",
    "                y=reduced_climat[:,1],\n",
    "                hue=climat['region'],\n",
    "                palette='Set1')\n",
    "plt.xlabel('1ere Composante')\n",
    "plt.ylabel('2e composante')\n",
    "plt.title('Données Climat en fonction des 2 premières composantes')"
   ]
  },
  {
   "cell_type": "markdown",
   "id": "4673be25",
   "metadata": {},
   "source": [
    "On voit que les régions très froides de septembre à mars se distinguent sur l’axe de la première composante. La seconde composante permet d’identifier les régions maritimes (dans les valeurs élevées) et les régions aux températures plus chaudes de mars à septembre (dans les valeurs faibles)."
   ]
  },
  {
   "cell_type": "markdown",
   "id": "d9b7bab5",
   "metadata": {},
   "source": [
    "Nous allons calculer la contribution des observations aux différentes composantes"
   ]
  },
  {
   "cell_type": "code",
   "execution_count": 16,
   "id": "87c75ea6",
   "metadata": {},
   "outputs": [
    {
     "data": {
      "text/html": [
       "<div>\n",
       "<style scoped>\n",
       "    .dataframe tbody tr th:only-of-type {\n",
       "        vertical-align: middle;\n",
       "    }\n",
       "\n",
       "    .dataframe tbody tr th {\n",
       "        vertical-align: top;\n",
       "    }\n",
       "\n",
       "    .dataframe thead th {\n",
       "        text-align: right;\n",
       "    }\n",
       "</style>\n",
       "<table border=\"1\" class=\"dataframe\">\n",
       "  <thead>\n",
       "    <tr style=\"text-align: right;\">\n",
       "      <th></th>\n",
       "      <th>CP1</th>\n",
       "      <th>CP2</th>\n",
       "      <th>CP3</th>\n",
       "      <th>CP4</th>\n",
       "      <th>CP5</th>\n",
       "      <th>CP6</th>\n",
       "      <th>CP7</th>\n",
       "      <th>CP8</th>\n",
       "    </tr>\n",
       "    <tr>\n",
       "      <th>location</th>\n",
       "      <th></th>\n",
       "      <th></th>\n",
       "      <th></th>\n",
       "      <th></th>\n",
       "      <th></th>\n",
       "      <th></th>\n",
       "      <th></th>\n",
       "      <th></th>\n",
       "    </tr>\n",
       "  </thead>\n",
       "  <tbody>\n",
       "    <tr>\n",
       "      <th>VICTORIA INT'L A BC 118</th>\n",
       "      <td>0.18</td>\n",
       "      <td>0.49</td>\n",
       "      <td>0.96</td>\n",
       "      <td>6.04</td>\n",
       "      <td>0.29</td>\n",
       "      <td>0.00</td>\n",
       "      <td>0.39</td>\n",
       "      <td>0.01</td>\n",
       "    </tr>\n",
       "    <tr>\n",
       "      <th>COMOX A BC 155</th>\n",
       "      <td>0.33</td>\n",
       "      <td>3.26</td>\n",
       "      <td>0.32</td>\n",
       "      <td>8.28</td>\n",
       "      <td>1.04</td>\n",
       "      <td>2.28</td>\n",
       "      <td>0.61</td>\n",
       "      <td>0.12</td>\n",
       "    </tr>\n",
       "    <tr>\n",
       "      <th>PORT HARDY A BC 202</th>\n",
       "      <td>0.76</td>\n",
       "      <td>7.65</td>\n",
       "      <td>1.18</td>\n",
       "      <td>1.06</td>\n",
       "      <td>1.33</td>\n",
       "      <td>4.79</td>\n",
       "      <td>6.98</td>\n",
       "      <td>0.03</td>\n",
       "    </tr>\n",
       "    <tr>\n",
       "      <th>TERRACE A BC 441</th>\n",
       "      <td>0.04</td>\n",
       "      <td>1.38</td>\n",
       "      <td>0.02</td>\n",
       "      <td>1.71</td>\n",
       "      <td>2.21</td>\n",
       "      <td>9.61</td>\n",
       "      <td>0.75</td>\n",
       "      <td>0.02</td>\n",
       "    </tr>\n",
       "    <tr>\n",
       "      <th>WILLIAMS LAKE A BC 664</th>\n",
       "      <td>0.36</td>\n",
       "      <td>0.31</td>\n",
       "      <td>0.03</td>\n",
       "      <td>3.12</td>\n",
       "      <td>0.63</td>\n",
       "      <td>0.01</td>\n",
       "      <td>1.23</td>\n",
       "      <td>0.20</td>\n",
       "    </tr>\n",
       "    <tr>\n",
       "      <th>...</th>\n",
       "      <td>...</td>\n",
       "      <td>...</td>\n",
       "      <td>...</td>\n",
       "      <td>...</td>\n",
       "      <td>...</td>\n",
       "      <td>...</td>\n",
       "      <td>...</td>\n",
       "      <td>...</td>\n",
       "    </tr>\n",
       "    <tr>\n",
       "      <th>ST JOHN'S A NL 6720</th>\n",
       "      <td>1.21</td>\n",
       "      <td>12.18</td>\n",
       "      <td>0.09</td>\n",
       "      <td>0.64</td>\n",
       "      <td>5.10</td>\n",
       "      <td>5.63</td>\n",
       "      <td>0.12</td>\n",
       "      <td>0.07</td>\n",
       "    </tr>\n",
       "    <tr>\n",
       "      <th>STEPHENVILLE A NL 6740</th>\n",
       "      <td>0.00</td>\n",
       "      <td>0.08</td>\n",
       "      <td>0.76</td>\n",
       "      <td>0.50</td>\n",
       "      <td>8.51</td>\n",
       "      <td>0.16</td>\n",
       "      <td>0.00</td>\n",
       "      <td>0.28</td>\n",
       "    </tr>\n",
       "    <tr>\n",
       "      <th>CARTWRIGHT NL 6773</th>\n",
       "      <td>0.23</td>\n",
       "      <td>0.96</td>\n",
       "      <td>1.35</td>\n",
       "      <td>0.35</td>\n",
       "      <td>5.14</td>\n",
       "      <td>1.55</td>\n",
       "      <td>0.17</td>\n",
       "      <td>0.48</td>\n",
       "    </tr>\n",
       "    <tr>\n",
       "      <th>GOOSE A NL 6777</th>\n",
       "      <td>0.25</td>\n",
       "      <td>0.12</td>\n",
       "      <td>1.78</td>\n",
       "      <td>0.15</td>\n",
       "      <td>4.15</td>\n",
       "      <td>0.22</td>\n",
       "      <td>0.00</td>\n",
       "      <td>1.23</td>\n",
       "    </tr>\n",
       "    <tr>\n",
       "      <th>NAIN A NL 6787</th>\n",
       "      <td>1.09</td>\n",
       "      <td>1.23</td>\n",
       "      <td>1.59</td>\n",
       "      <td>0.81</td>\n",
       "      <td>5.38</td>\n",
       "      <td>0.16</td>\n",
       "      <td>0.06</td>\n",
       "      <td>2.26</td>\n",
       "    </tr>\n",
       "  </tbody>\n",
       "</table>\n",
       "<p>189 rows × 8 columns</p>\n",
       "</div>"
      ],
      "text/plain": [
       "                          CP1    CP2   CP3   CP4   CP5   CP6   CP7   CP8\n",
       "location                                                                \n",
       "VICTORIA INT'L A BC 118  0.18   0.49  0.96  6.04  0.29  0.00  0.39  0.01\n",
       "COMOX A BC 155           0.33   3.26  0.32  8.28  1.04  2.28  0.61  0.12\n",
       "PORT HARDY A BC 202      0.76   7.65  1.18  1.06  1.33  4.79  6.98  0.03\n",
       "TERRACE A BC 441         0.04   1.38  0.02  1.71  2.21  9.61  0.75  0.02\n",
       "WILLIAMS LAKE A BC 664   0.36   0.31  0.03  3.12  0.63  0.01  1.23  0.20\n",
       "...                       ...    ...   ...   ...   ...   ...   ...   ...\n",
       "ST JOHN'S A NL 6720      1.21  12.18  0.09  0.64  5.10  5.63  0.12  0.07\n",
       "STEPHENVILLE A NL 6740   0.00   0.08  0.76  0.50  8.51  0.16  0.00  0.28\n",
       "CARTWRIGHT NL 6773       0.23   0.96  1.35  0.35  5.14  1.55  0.17  0.48\n",
       "GOOSE A NL 6777          0.25   0.12  1.78  0.15  4.15  0.22  0.00  1.23\n",
       "NAIN A NL 6787           1.09   1.23  1.59  0.81  5.38  0.16  0.06  2.26\n",
       "\n",
       "[189 rows x 8 columns]"
      ]
     },
     "execution_count": 16,
     "metadata": {},
     "output_type": "execute_result"
    }
   ],
   "source": [
    "c_obs=np.round(reduced_climat**2/len(reduced_climat)/pca.explained_variance_*100,2)\n",
    "c_df=pd.DataFrame(data=c_obs,index=climat['location'],columns=[f'CP{i+1}' for i in range(pca.n_components_)])\n",
    "c_df"
   ]
  },
  {
   "cell_type": "markdown",
   "id": "2c5bae02",
   "metadata": {},
   "source": [
    "On remarque que la station météo de Victoria contribue pour 0.18% de la variance de la première composante"
   ]
  },
  {
   "cell_type": "markdown",
   "id": "efa3b267",
   "metadata": {},
   "source": [
    "Nous allons calculer la contribution de la variable `tmax_mars` à la première composante"
   ]
  },
  {
   "cell_type": "code",
   "execution_count": 17,
   "id": "4705411b",
   "metadata": {},
   "outputs": [
    {
     "data": {
      "text/plain": [
       "16.475727733874624"
      ]
     },
     "execution_count": 17,
     "metadata": {},
     "output_type": "execute_result"
    }
   ],
   "source": [
    "# On calcule la coordonée de la variable en calculant\n",
    "# la corrélation entre le jeu de données initial et celui projeté dans les nouvelles dimensions\n",
    "Y=pd.DataFrame(reduced_climat)\n",
    "r_tmax_mars=X.loc[:,'tmax_mars'].corr(Y[0])\n",
    "# On calcule la contribution\n",
    "c_tmax_mars=r_tmax_mars**2/pca.explained_variance_[0]*100\n",
    "c_tmax_mars"
   ]
  },
  {
   "cell_type": "markdown",
   "id": "10a83f60",
   "metadata": {},
   "source": [
    "La variable `tmax_mars` contribue pour environ 16% de la variance de la première composante"
   ]
  },
  {
   "cell_type": "markdown",
   "id": "8b509308",
   "metadata": {},
   "source": [
    "On génère le graphique pour sélectionner le nombre de composante (loi de Cattel)"
   ]
  },
  {
   "cell_type": "code",
   "execution_count": 19,
   "id": "aace2ba1",
   "metadata": {},
   "outputs": [
    {
     "data": {
      "text/plain": [
       "Text(0, 0.5, 'Valeur propre')"
      ]
     },
     "execution_count": 19,
     "metadata": {},
     "output_type": "execute_result"
    },
    {
     "data": {
      "image/png": "[encoded data removed]",
      "text/plain": [
       "<Figure size 800x600 with 1 Axes>"
      ]
     },
     "metadata": {},
     "output_type": "display_data"
    }
   ],
   "source": [
    "plt.figure(figsize=(8, 6))\n",
    "sns.scatterplot(pca.explained_variance_)\n",
    "plt.xlabel('Composante')\n",
    "plt.ylabel('Valeur propre')"
   ]
  },
  {
   "cell_type": "markdown",
   "id": "e4764982",
   "metadata": {},
   "source": [
    "On conserve les 2 premières composantes"
   ]
  },
  {
   "cell_type": "markdown",
   "id": "5737240e",
   "metadata": {},
   "source": [
    "## Modèle prédictif"
   ]
  },
  {
   "cell_type": "markdown",
   "id": "004095bd",
   "metadata": {},
   "source": [
    "## Exemple avec le jeu de données Iris\n",
    "On cherche à prédire l'espèce de la plante basée sur les mesures de ses feuilles et de ses pétales."
   ]
  },
  {
   "cell_type": "code",
   "execution_count": 20,
   "id": "1fbaf63a",
   "metadata": {},
   "outputs": [],
   "source": [
    "# On prend l'approche avec partitionnement du jeu de données"
   ]
  },
  {
   "cell_type": "code",
   "execution_count": 21,
   "id": "7a233247",
   "metadata": {},
   "outputs": [],
   "source": [
    "from sklearn.model_selection import train_test_split\n",
    "\n",
    "# Le random_state permet de reproduire le même résultat.\n",
    "# Si l'on souhaite reproduire nos résultats sur un autre ordinateur, cet argument est essentiel.  \n",
    "\n",
    "# on sépare le jeu de données entre les variables indépendantes et la variable réponse\n",
    "X = iris.data\n",
    "y = iris.target\n",
    "\n",
    "# on crée les jeux de données train et test\n",
    "# pour changer la proportion (par défaut=25%), utilisez test_size=...\n",
    "X_train, X_test, y_train, y_test = train_test_split(X, y, random_state = 100)\n",
    "X_train_copie = X_train.copy()\n",
    "X_test_copie = X_test.copy()"
   ]
  },
  {
   "cell_type": "code",
   "execution_count": 22,
   "id": "468ef366",
   "metadata": {},
   "outputs": [],
   "source": [
    "from sklearn.ensemble import RandomForestClassifier\n",
    "clas_RF = RandomForestClassifier(random_state=100)\n",
    "clas_RF.fit(X_train_copie, y_train)\n",
    "clas_RF_preds= clas_RF.predict(X_test_copie)"
   ]
  },
  {
   "cell_type": "code",
   "execution_count": 23,
   "id": "beb24bb0",
   "metadata": {},
   "outputs": [
    {
     "name": "stdout",
     "output_type": "stream",
     "text": [
      "Précision du modèle Forêt aléatoire: 0.9474\n"
     ]
    }
   ],
   "source": [
    "# On mesure la performance avec la précision\n",
    "from sklearn.metrics import accuracy_score\n",
    "\n",
    "accuracy=accuracy_score(clas_RF_preds, y_test)\n",
    "print('Précision du modèle Forêt aléatoire: {0:0.4f}'.format(accuracy))"
   ]
  },
  {
   "cell_type": "markdown",
   "id": "fde73ecd",
   "metadata": {},
   "source": [
    "## Exemple avec le jeu de données diabetes.csv\n",
    "On cherche à prédire si une personne fait du diabète ou non"
   ]
  },
  {
   "cell_type": "code",
   "execution_count": 24,
   "id": "0ea72558",
   "metadata": {},
   "outputs": [
    {
     "data": {
      "text/html": [
       "<div>\n",
       "<style scoped>\n",
       "    .dataframe tbody tr th:only-of-type {\n",
       "        vertical-align: middle;\n",
       "    }\n",
       "\n",
       "    .dataframe tbody tr th {\n",
       "        vertical-align: top;\n",
       "    }\n",
       "\n",
       "    .dataframe thead th {\n",
       "        text-align: right;\n",
       "    }\n",
       "</style>\n",
       "<table border=\"1\" class=\"dataframe\">\n",
       "  <thead>\n",
       "    <tr style=\"text-align: right;\">\n",
       "      <th></th>\n",
       "      <th>Pregnancies</th>\n",
       "      <th>Glucose</th>\n",
       "      <th>BloodPressure</th>\n",
       "      <th>SkinThickness</th>\n",
       "      <th>Insulin</th>\n",
       "      <th>BMI</th>\n",
       "      <th>DiabetesPedigreeFunction</th>\n",
       "      <th>Age</th>\n",
       "      <th>Outcome</th>\n",
       "    </tr>\n",
       "  </thead>\n",
       "  <tbody>\n",
       "    <tr>\n",
       "      <th>0</th>\n",
       "      <td>6</td>\n",
       "      <td>148</td>\n",
       "      <td>72</td>\n",
       "      <td>35</td>\n",
       "      <td>0</td>\n",
       "      <td>33.6</td>\n",
       "      <td>0.627</td>\n",
       "      <td>50</td>\n",
       "      <td>1</td>\n",
       "    </tr>\n",
       "    <tr>\n",
       "      <th>1</th>\n",
       "      <td>1</td>\n",
       "      <td>85</td>\n",
       "      <td>66</td>\n",
       "      <td>29</td>\n",
       "      <td>0</td>\n",
       "      <td>26.6</td>\n",
       "      <td>0.351</td>\n",
       "      <td>31</td>\n",
       "      <td>0</td>\n",
       "    </tr>\n",
       "    <tr>\n",
       "      <th>2</th>\n",
       "      <td>8</td>\n",
       "      <td>183</td>\n",
       "      <td>64</td>\n",
       "      <td>0</td>\n",
       "      <td>0</td>\n",
       "      <td>23.3</td>\n",
       "      <td>0.672</td>\n",
       "      <td>32</td>\n",
       "      <td>1</td>\n",
       "    </tr>\n",
       "    <tr>\n",
       "      <th>3</th>\n",
       "      <td>1</td>\n",
       "      <td>89</td>\n",
       "      <td>66</td>\n",
       "      <td>23</td>\n",
       "      <td>94</td>\n",
       "      <td>28.1</td>\n",
       "      <td>0.167</td>\n",
       "      <td>21</td>\n",
       "      <td>0</td>\n",
       "    </tr>\n",
       "    <tr>\n",
       "      <th>4</th>\n",
       "      <td>0</td>\n",
       "      <td>137</td>\n",
       "      <td>40</td>\n",
       "      <td>35</td>\n",
       "      <td>168</td>\n",
       "      <td>43.1</td>\n",
       "      <td>2.288</td>\n",
       "      <td>33</td>\n",
       "      <td>1</td>\n",
       "    </tr>\n",
       "  </tbody>\n",
       "</table>\n",
       "</div>"
      ],
      "text/plain": [
       "   Pregnancies  Glucose  BloodPressure  SkinThickness  Insulin   BMI  \\\n",
       "0            6      148             72             35        0  33.6   \n",
       "1            1       85             66             29        0  26.6   \n",
       "2            8      183             64              0        0  23.3   \n",
       "3            1       89             66             23       94  28.1   \n",
       "4            0      137             40             35      168  43.1   \n",
       "\n",
       "   DiabetesPedigreeFunction  Age  Outcome  \n",
       "0                     0.627   50        1  \n",
       "1                     0.351   31        0  \n",
       "2                     0.672   32        1  \n",
       "3                     0.167   21        0  \n",
       "4                     2.288   33        1  "
      ]
     },
     "execution_count": 24,
     "metadata": {},
     "output_type": "execute_result"
    }
   ],
   "source": [
    "diabete=pd.read_csv('diabetes.csv')\n",
    "diabete.head()"
   ]
  },
  {
   "cell_type": "code",
   "execution_count": 25,
   "id": "a42e3e3d",
   "metadata": {},
   "outputs": [
    {
     "name": "stdout",
     "output_type": "stream",
     "text": [
      "% Diabétique 33.33333333333333\n",
      "% Non diabétique 33.33333333333333\n"
     ]
    }
   ],
   "source": [
    "# Est-ce qu'on a autant de diabétique que de non diabétique dans notre jeu de données?\n",
    "X = diabete.loc[:,'Pregnancies':'Age']\n",
    "y = diabete['Outcome']\n",
    "print('% Diabétique',sum(y==1)/len(y)*100)\n",
    "print('% Non diabétique',sum(y==0)/len(y)*100)"
   ]
  },
  {
   "cell_type": "code",
   "execution_count": 26,
   "id": "1641090e",
   "metadata": {},
   "outputs": [],
   "source": [
    "# Le random_state permet de reproduire le même résultat.\n",
    "# Si l'on souhaite reproduire nos résultats sur un autre ordinateur, cet argument est essentiel.  \n",
    "\n",
    "# on sépare le jeu de données entre les variables indépendantes et la variable réponse\n",
    "X = diabete.loc[:,'Pregnancies':'Age']\n",
    "y = diabete['Outcome']\n",
    "\n",
    "# on crée les jeux de données train et test\n",
    "# pour changer la proportion (par défaut=25%), utilisez test_size=...\n",
    "X_train, X_test, y_train, y_test = train_test_split(X, y, random_state = 100)\n",
    "X_train_copie = X_train.copy()\n",
    "X_test_copie = X_test.copy()"
   ]
  },
  {
   "cell_type": "code",
   "execution_count": 27,
   "id": "686b403d",
   "metadata": {},
   "outputs": [],
   "source": [
    "clas_RF = RandomForestClassifier(random_state=100)\n",
    "clas_RF.fit(X_train_copie, y_train)\n",
    "y_pred_proba=clas_RF.predict_proba(X_test_copie)[:,1]\n"
   ]
  },
  {
   "cell_type": "code",
   "execution_count": 28,
   "id": "7a0d778f",
   "metadata": {},
   "outputs": [
    {
     "data": {
      "text/plain": [
       "0.7604482132041187"
      ]
     },
     "execution_count": 28,
     "metadata": {},
     "output_type": "execute_result"
    }
   ],
   "source": [
    "# on mesure la performance avec la courbe ROC et l'aire sous la courbe\n",
    "from sklearn.metrics import roc_auc_score\n",
    "roc_auc_score(y_test, y_pred_proba)"
   ]
  },
  {
   "cell_type": "code",
   "execution_count": 29,
   "id": "a5a4646e",
   "metadata": {},
   "outputs": [
    {
     "data": {
      "text/plain": [
       "[<matplotlib.lines.Line2D at 0x26ff8f57710>]"
      ]
     },
     "execution_count": 29,
     "metadata": {},
     "output_type": "execute_result"
    },
    {
     "data": {
      "image/png": "[encoded data removed]",
      "text/plain": [
       "<Figure size 640x480 with 1 Axes>"
      ]
     },
     "metadata": {},
     "output_type": "display_data"
    }
   ],
   "source": [
    "from sklearn.metrics import roc_curve\n",
    "\n",
    "fpr, tpr, _ = roc_curve(y_test,  y_pred_proba)\n",
    "auc = roc_auc_score(y_test, y_pred_proba)\n",
    "plt.plot(fpr,tpr,label=\"data 1, auc=\"+str(auc))"
   ]
  },
  {
   "cell_type": "code",
   "execution_count": 30,
   "id": "eb6c24b3",
   "metadata": {},
   "outputs": [
    {
     "data": {
      "text/plain": [
       "0.5573770491803279"
      ]
     },
     "execution_count": 30,
     "metadata": {},
     "output_type": "execute_result"
    }
   ],
   "source": [
    "# on mesure la performance avec le score F1\n",
    "y_pred=clas_RF.predict(X_test_copie)\n",
    "from sklearn.metrics import f1_score\n",
    "f1_score(y_test,  y_pred)"
   ]
  },
  {
   "cell_type": "markdown",
   "id": "50d9f34c",
   "metadata": {},
   "source": [
    "## Exemple de validation croisée avec le jeu de données diabetes.csv\n",
    "On cherche à prédire si une personne fait du diabète ou non avec validation croisée.\n",
    "Afin de voir tous les critères de performance supporté avec la fonction `cross_val_score`: https://scikit-learn.org/stable/modules/model_evaluation.html#scoring-parameter"
   ]
  },
  {
   "cell_type": "code",
   "execution_count": 31,
   "id": "d7d9c441",
   "metadata": {},
   "outputs": [],
   "source": [
    "# on sépare le jeu de données entre les variables indépendantes et la variable réponse\n",
    "X = diabete.loc[:,'Pregnancies':'Age']\n",
    "y = diabete['Outcome']"
   ]
  },
  {
   "cell_type": "code",
   "execution_count": 32,
   "id": "7fbb625e",
   "metadata": {},
   "outputs": [
    {
     "data": {
      "text/plain": [
       "0.632723916164877"
      ]
     },
     "execution_count": 32,
     "metadata": {},
     "output_type": "execute_result"
    }
   ],
   "source": [
    "clas_RF = RandomForestClassifier(random_state=100)\n",
    "from sklearn.model_selection import cross_val_score\n",
    "\n",
    "# on choisi la précision\n",
    "scores = cross_val_score(clas_RF, X, y,\n",
    "                         scoring=\"f1\", cv=10)\n",
    "scores.mean()"
   ]
  },
  {
   "cell_type": "markdown",
   "id": "474a181a",
   "metadata": {},
   "source": [
    "## Recherche par quadrillage avec le jeu de données diabetes.csv\n",
    "La documentation de GridSearchCV: https://scikit-learn.org/stable/modules/generated/sklearn.model_selection.GridSearchCV.html\n",
    "La documentation pour le scoring: https://scikit-learn.org/stable/modules/model_evaluation.html#scoring-parameter"
   ]
  },
  {
   "cell_type": "code",
   "execution_count": 33,
   "id": "e8c999f7",
   "metadata": {},
   "outputs": [],
   "source": [
    "# Le random_state permet de reproduire le même résultat.\n",
    "# Si l'on souhaite reproduire nos résultats sur un autre ordinateur, cet argument est essentiel.  \n",
    "\n",
    "# on sépare le jeu de données entre les variables indépendantes et la variable réponse\n",
    "X = diabete.loc[:,'Pregnancies':'Age']\n",
    "y = diabete['Outcome']\n",
    "\n",
    "# on crée les jeux de données train et test\n",
    "# pour changer la proportion (par défaut=25%), utilisez test_size=...\n",
    "X_train, X_test, y_train, y_test = train_test_split(X, y, random_state = 100)\n",
    "X_train_copie = X_train.copy()\n",
    "X_test_copie = X_test.copy()"
   ]
  },
  {
   "cell_type": "code",
   "execution_count": 34,
   "id": "675f6856",
   "metadata": {},
   "outputs": [
    {
     "data": {
      "text/html": [
       "<style>#sk-container-id-1 {color: black;background-color: white;}#sk-container-id-1 pre{padding: 0;}#sk-container-id-1 div.sk-toggleable {background-color: white;}#sk-container-id-1 label.sk-toggleable__label {cursor: pointer;display: block;width: 100%;margin-bottom: 0;padding: 0.3em;box-sizing: border-box;text-align: center;}#sk-container-id-1 label.sk-toggleable__label-arrow:before {content: \"▸\";float: left;margin-right: 0.25em;color: #696969;}#sk-container-id-1 label.sk-toggleable__label-arrow:hover:before {color: black;}#sk-container-id-1 div.sk-estimator:hover label.sk-toggleable__label-arrow:before {color: black;}#sk-container-id-1 div.sk-toggleable__content {max-height: 0;max-width: 0;overflow: hidden;text-align: left;background-color: #f0f8ff;}#sk-container-id-1 div.sk-toggleable__content pre {margin: 0.2em;color: black;border-radius: 0.25em;background-color: #f0f8ff;}#sk-container-id-1 input.sk-toggleable__control:checked~div.sk-toggleable__content {max-height: 200px;max-width: 100%;overflow: auto;}#sk-container-id-1 input.sk-toggleable__control:checked~label.sk-toggleable__label-arrow:before {content: \"▾\";}#sk-container-id-1 div.sk-estimator input.sk-toggleable__control:checked~label.sk-toggleable__label {background-color: #d4ebff;}#sk-container-id-1 div.sk-label input.sk-toggleable__control:checked~label.sk-toggleable__label {background-color: #d4ebff;}#sk-container-id-1 input.sk-hidden--visually {border: 0;clip: rect(1px 1px 1px 1px);clip: rect(1px, 1px, 1px, 1px);height: 1px;margin: -1px;overflow: hidden;padding: 0;position: absolute;width: 1px;}#sk-container-id-1 div.sk-estimator {font-family: monospace;background-color: #f0f8ff;border: 1px dotted black;border-radius: 0.25em;box-sizing: border-box;margin-bottom: 0.5em;}#sk-container-id-1 div.sk-estimator:hover {background-color: #d4ebff;}#sk-container-id-1 div.sk-parallel-item::after {content: \"\";width: 100%;border-bottom: 1px solid gray;flex-grow: 1;}#sk-container-id-1 div.sk-label:hover label.sk-toggleable__label {background-color: #d4ebff;}#sk-container-id-1 div.sk-serial::before {content: \"\";position: absolute;border-left: 1px solid gray;box-sizing: border-box;top: 0;bottom: 0;left: 50%;z-index: 0;}#sk-container-id-1 div.sk-serial {display: flex;flex-direction: column;align-items: center;background-color: white;padding-right: 0.2em;padding-left: 0.2em;position: relative;}#sk-container-id-1 div.sk-item {position: relative;z-index: 1;}#sk-container-id-1 div.sk-parallel {display: flex;align-items: stretch;justify-content: center;background-color: white;position: relative;}#sk-container-id-1 div.sk-item::before, #sk-container-id-1 div.sk-parallel-item::before {content: \"\";position: absolute;border-left: 1px solid gray;box-sizing: border-box;top: 0;bottom: 0;left: 50%;z-index: -1;}#sk-container-id-1 div.sk-parallel-item {display: flex;flex-direction: column;z-index: 1;position: relative;background-color: white;}#sk-container-id-1 div.sk-parallel-item:first-child::after {align-self: flex-end;width: 50%;}#sk-container-id-1 div.sk-parallel-item:last-child::after {align-self: flex-start;width: 50%;}#sk-container-id-1 div.sk-parallel-item:only-child::after {width: 0;}#sk-container-id-1 div.sk-dashed-wrapped {border: 1px dashed gray;margin: 0 0.4em 0.5em 0.4em;box-sizing: border-box;padding-bottom: 0.4em;background-color: white;}#sk-container-id-1 div.sk-label label {font-family: monospace;font-weight: bold;display: inline-block;line-height: 1.2em;}#sk-container-id-1 div.sk-label-container {text-align: center;}#sk-container-id-1 div.sk-container {/* jupyter's `normalize.less` sets `[hidden] { display: none; }` but bootstrap.min.css set `[hidden] { display: none !important; }` so we also need the `!important` here to be able to override the default hidden behavior on the sphinx rendered scikit-learn.org. See: https://github.com/scikit-learn/scikit-learn/issues/21755 */display: inline-block !important;position: relative;}#sk-container-id-1 div.sk-text-repr-fallback {display: none;}</style><div id=\"sk-container-id-1\" class=\"sk-top-container\"><div class=\"sk-text-repr-fallback\"><pre>GridSearchCV(cv=10, estimator=RandomForestClassifier(random_state=100),\n",
       "             param_grid=[{&#x27;max_depth&#x27;: [3, 5, 7, 9],\n",
       "                          &#x27;n_estimators&#x27;: [50, 100, 120, 200, 250]}],\n",
       "             return_train_score=True, scoring=&#x27;f1&#x27;)</pre><b>In a Jupyter environment, please rerun this cell to show the HTML representation or trust the notebook. <br />On GitHub, the HTML representation is unable to render, please try loading this page with nbviewer.org.</b></div><div class=\"sk-container\" hidden><div class=\"sk-item sk-dashed-wrapped\"><div class=\"sk-label-container\"><div class=\"sk-label sk-toggleable\"><input class=\"sk-toggleable__control sk-hidden--visually\" id=\"sk-estimator-id-1\" type=\"checkbox\" ><label for=\"sk-estimator-id-1\" class=\"sk-toggleable__label sk-toggleable__label-arrow\">GridSearchCV</label><div class=\"sk-toggleable__content\"><pre>GridSearchCV(cv=10, estimator=RandomForestClassifier(random_state=100),\n",
       "             param_grid=[{&#x27;max_depth&#x27;: [3, 5, 7, 9],\n",
       "                          &#x27;n_estimators&#x27;: [50, 100, 120, 200, 250]}],\n",
       "             return_train_score=True, scoring=&#x27;f1&#x27;)</pre></div></div></div><div class=\"sk-parallel\"><div class=\"sk-parallel-item\"><div class=\"sk-item\"><div class=\"sk-label-container\"><div class=\"sk-label sk-toggleable\"><input class=\"sk-toggleable__control sk-hidden--visually\" id=\"sk-estimator-id-2\" type=\"checkbox\" ><label for=\"sk-estimator-id-2\" class=\"sk-toggleable__label sk-toggleable__label-arrow\">estimator: RandomForestClassifier</label><div class=\"sk-toggleable__content\"><pre>RandomForestClassifier(random_state=100)</pre></div></div></div><div class=\"sk-serial\"><div class=\"sk-item\"><div class=\"sk-estimator sk-toggleable\"><input class=\"sk-toggleable__control sk-hidden--visually\" id=\"sk-estimator-id-3\" type=\"checkbox\" ><label for=\"sk-estimator-id-3\" class=\"sk-toggleable__label sk-toggleable__label-arrow\">RandomForestClassifier</label><div class=\"sk-toggleable__content\"><pre>RandomForestClassifier(random_state=100)</pre></div></div></div></div></div></div></div></div></div></div>"
      ],
      "text/plain": [
       "GridSearchCV(cv=10, estimator=RandomForestClassifier(random_state=100),\n",
       "             param_grid=[{'max_depth': [3, 5, 7, 9],\n",
       "                          'n_estimators': [50, 100, 120, 200, 250]}],\n",
       "             return_train_score=True, scoring='f1')"
      ]
     },
     "execution_count": 34,
     "metadata": {},
     "output_type": "execute_result"
    }
   ],
   "source": [
    "from sklearn.model_selection import GridSearchCV\n",
    "\n",
    "#param_grid = [\n",
    "#    {'n_estimators': [50,100,120,200,250],\n",
    "#     'criterion':['gini', 'entropy', 'log_loss']}] \n",
    "\n",
    "param_grid = [{'n_estimators':[50,100,120,200,250],\n",
    "              'max_depth': [3, 5, 7, 9]}]\n",
    "              #'max_samples': [0.3, 0.5, 0.8]}]\n",
    "\n",
    "clas_RF = RandomForestClassifier(random_state=100)\n",
    "\n",
    "RF_grid_search = GridSearchCV(clas_RF, param_grid, cv=10,\n",
    "                           scoring='f1',\n",
    "                           return_train_score=True)\n",
    "\n",
    "RF_grid_search.fit(X_train_copie, y_train)"
   ]
  },
  {
   "cell_type": "code",
   "execution_count": 35,
   "id": "3672094b",
   "metadata": {},
   "outputs": [
    {
     "data": {
      "text/plain": [
       "{'max_depth': 9, 'n_estimators': 50}"
      ]
     },
     "execution_count": 35,
     "metadata": {},
     "output_type": "execute_result"
    }
   ],
   "source": [
    "RF_grid_search.best_params_\n"
   ]
  },
  {
   "cell_type": "code",
   "execution_count": 36,
   "id": "60e01895",
   "metadata": {},
   "outputs": [
    {
     "data": {
      "text/plain": [
       "0.5203252032520326"
      ]
     },
     "execution_count": 36,
     "metadata": {},
     "output_type": "execute_result"
    }
   ],
   "source": [
    "## Prédictions sur le test set\n",
    "reg_RF_gridsearch_preds= RF_grid_search.best_estimator_.predict(X_test_copie)\n",
    "f1_score(y_test,  reg_RF_gridsearch_preds)"
   ]
  },
  {
   "cell_type": "markdown",
   "id": "7d09b6e8",
   "metadata": {},
   "source": [
    "## Importance des variables avec le jeu de données diabetes.csv\n",
    "Pour mieux comprendre son modèle, on peut extraire l'importance des variables. Il s'agit aussi d'une manière de rendre le modèle plus transparent et de valider sa cohérence. Voici l'exemple pour l'importance des variables pour les forêts aléatoires. Ici, on calcule l'importance d'un arbre en comparant comment l'embranchement augmente la performance (pondéré par le nombre d'observation du noeud). La mesure de performance ici est la pureté (Gini). Il y a aussi d'autres manières de calculer l'importance des variables pour un modèle à base d'arbres :\n",
    "\n",
    "* Nombre de fois qu'une variable est utilisée pour construire l'arbre. Plus une variable est utilisée, plus elle est considérée comme étant importante (NON-RECOMMANDÉE, pas assez précis comme méthode),\n",
    "* Importance des variables par permutation"
   ]
  },
  {
   "cell_type": "code",
   "execution_count": 37,
   "id": "777a09b8",
   "metadata": {},
   "outputs": [
    {
     "data": {
      "text/plain": [
       "Text(0.5, 1.0, 'Feature Importance')"
      ]
     },
     "execution_count": 37,
     "metadata": {},
     "output_type": "execute_result"
    },
    {
     "data": {
      "image/png": "[encoded data removed]",
      "text/plain": [
       "<Figure size 600x1200 with 1 Axes>"
      ]
     },
     "metadata": {},
     "output_type": "display_data"
    }
   ],
   "source": [
    "feature_importance = RF_grid_search.best_estimator_.feature_importances_\n",
    "feature_importance\n",
    "sorted_idx = np.argsort(feature_importance)\n",
    "pos = np.arange(sorted_idx.shape[0]) + 0.5\n",
    "fig = plt.figure(figsize=(6, 12))\n",
    "plt.subplot(1, 2, 1)\n",
    "plt.barh(pos, feature_importance[sorted_idx], align=\"center\")\n",
    "plt.yticks(pos, np.array(X_train_copie.columns)[sorted_idx])\n",
    "plt.title(\"Feature Importance\")\n"
   ]
  }
 ],
 "metadata": {
  "kernelspec": {
   "display_name": "Python 3 (ipykernel)",
   "language": "python",
   "name": "python3"
  },
  "language_info": {
   "codemirror_mode": {
    "name": "ipython",
    "version": 3
   },
   "file_extension": ".py",
   "mimetype": "text/x-python",
   "name": "python",
   "nbconvert_exporter": "python",
   "pygments_lexer": "ipython3",
   "version": "3.11.3"
  }
 },
 "nbformat": 4,
 "nbformat_minor": 5
}

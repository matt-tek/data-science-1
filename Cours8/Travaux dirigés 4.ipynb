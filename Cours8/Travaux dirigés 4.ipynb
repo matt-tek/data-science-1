{
 "cells": [
  {
   "cell_type": "markdown",
   "id": "be7ec012",
   "metadata": {},
   "source": [
    "## Seattle Bicyle Counts\n",
    "\n",
    "Les données qui se retrouvent dans le csv `FremontBridge.csv` donnent le nombre de cyclistes par jour et heure sur les 2 trottoirs du pont Fremont à Seattle. Ces données proviennent d'un capteur situé sur le pont.\n",
    "\n",
    "Nous allons poursuivre l'analyse débutée dans le TD#2."
   ]
  },
  {
   "cell_type": "code",
   "execution_count": 1,
   "id": "532001ee",
   "metadata": {},
   "outputs": [],
   "source": [
    "# Exécuter cette cellule (modifier le chemin du fichier au besoin) pour avoir le bon dataframe de départ\n",
    "import pandas as pd\n",
    "data = pd.read_csv('FremontBridge.csv', index_col='Date', parse_dates=True)\n",
    "data.columns = ['Total', 'East', 'West']"
   ]
  },
  {
   "cell_type": "markdown",
   "id": "70d0b146",
   "metadata": {},
   "source": [
    "### Question #1\n",
    "Créez un graphique à ligne\n",
    "présentant la somme de cycliste par jour total, sur le trottoir West et sur le trottoir East"
   ]
  },
  {
   "cell_type": "markdown",
   "id": "2b238c83",
   "metadata": {},
   "source": [
    "### Question #2\n",
    "Que remarquez-vous sur ce graphique au niveau des caractéristiques temporelles ?"
   ]
  },
  {
   "cell_type": "markdown",
   "id": "0763d78a",
   "metadata": {},
   "source": [
    "### Question #3\n",
    "Créer un graphique à ligne présentant la somme mobile sur 50 jours de cycliste total, sur le trottoir West et sur le trottoir East"
   ]
  },
  {
   "cell_type": "markdown",
   "id": "779bab64",
   "metadata": {},
   "source": [
    "### Question #4\n",
    "Analysons maintenant la tendance horaire du nombre de cycliste. Créez un graphique à ligne qui représente par heure la moyenne du nombre de cycliste total, sur le trottoir West et sur le trottoir East"
   ]
  },
  {
   "cell_type": "markdown",
   "id": "38c487c6",
   "metadata": {},
   "source": [
    "### Question #5\n",
    "Que remarquez-vous sur ce graphique au niveau des tendances observées sur le trottoir West et East ?"
   ]
  },
  {
   "cell_type": "markdown",
   "id": "a0e05eb5",
   "metadata": {},
   "source": [
    "### Question #6\n",
    "Créez un graphique qui représente par jour de la semaine la moyenne du nombre de cycliste total, sur le trottoir West et sur le trottoir East"
   ]
  },
  {
   "cell_type": "markdown",
   "id": "e5dfd742",
   "metadata": {},
   "source": [
    "### Question #7\n",
    "Est-ce que la time series du total de cycliste est stationnaire ?"
   ]
  },
  {
   "cell_type": "markdown",
   "id": "2e9bff57",
   "metadata": {},
   "source": [
    "## Client compagnie aérienne\n",
    "Les données qui se retrouvent dans le csv *AirPassengers.csv* contiennent le nombre de passager en fonction du temps d'une compagnie aérienne."
   ]
  },
  {
   "cell_type": "markdown",
   "id": "962db8f5",
   "metadata": {},
   "source": [
    "### Question #1\n",
    "Créez un graphique à ligne montrant l'évolution du nombre de passager à travers le temps"
   ]
  },
  {
   "cell_type": "markdown",
   "id": "5a1b888e",
   "metadata": {},
   "source": [
    "### Question #2\n",
    "Créez un graphique à ligne présentant la moyenne et l'écart-type mobile sur 7 mois du nombre de passagers."
   ]
  },
  {
   "cell_type": "markdown",
   "id": "fe25b1fb",
   "metadata": {},
   "source": [
    "### Question #3\n",
    "Est-ce que cette série temporelle est stationnaire ?"
   ]
  },
  {
   "cell_type": "markdown",
   "id": "b776e438",
   "metadata": {},
   "source": [
    "### Question #4 \n",
    "En utilisant la technique de différenciation, transformer la série en série stationnaire"
   ]
  }
 ],
 "metadata": {
  "kernelspec": {
   "display_name": "Python 3 (ipykernel)",
   "language": "python",
   "name": "python3"
  },
  "language_info": {
   "codemirror_mode": {
    "name": "ipython",
    "version": 3
   },
   "file_extension": ".py",
   "mimetype": "text/x-python",
   "name": "python",
   "nbconvert_exporter": "python",
   "pygments_lexer": "ipython3",
   "version": "3.11.3"
  }
 },
 "nbformat": 4,
 "nbformat_minor": 5
}

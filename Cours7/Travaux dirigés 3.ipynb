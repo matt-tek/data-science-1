{
 "cells": [
  {
   "cell_type": "markdown",
   "id": "22e8800f",
   "metadata": {},
   "source": [
    "## US Baby Names 1880–2010\n",
    "\n",
    "La Social Security Administration des États-Unis (SSA) a rendu disponibles les données sur la fréquence des prénoms de bébés de 1880 à nos jours. \n",
    "Après avoir téléchargé le fichier names.zip sur Moodle et l'avoir décompressé, vous obtiendrez un répertoire contenant une série de fichiers tels que *yob1880.txt*.\n"
   ]
  },
  {
   "cell_type": "markdown",
   "id": "aadc4836",
   "metadata": {},
   "source": [
    "### Question #1\n",
    "Le fichier names.zip contient un fichier par année (de 1880 à 2022).\n",
    "\n",
    "Assemblez toutes les données dans un seul *DataFrame* et ajoutez ensuite un champ pour indiquer l'année correspondant aux données. \n",
    "\n",
    "Astuce: Vous pouvez le faire en utilisant `pandas.concat`."
   ]
  },
  {
   "cell_type": "markdown",
   "id": "63beff0a",
   "metadata": {},
   "source": [
    "### Question #2 \n",
    "Créez un diagramme à ligne traçant le nombre de naissance par année et par genre."
   ]
  },
  {
   "cell_type": "markdown",
   "id": "f7173449",
   "metadata": {},
   "source": [
    "### Question #3\n",
    "\n",
    "Créer une figure qui contient 4 graphiques à ligne permettant de voir l'évolution du nombre d'enfants portant un des noms suivants:\n",
    "* John\n",
    "* Harry\n",
    "* Mary\n",
    "* Marilyn"
   ]
  },
  {
   "cell_type": "markdown",
   "id": "87f25ab8",
   "metadata": {},
   "source": [
    "### Question #4\n",
    "Créez un Dataframe présentant le nombre de naissance pour les 1000 noms les plus populaires  par année et genre.\n",
    "\n",
    "Astuce: Vous pouvez calculer la proportion de naissances que chacun des noms représente en divisant le nombre de naissance associé à ce nom sur le total des naissance de l'année et pour le genre dans lequel il se retrouve."
   ]
  },
  {
   "cell_type": "markdown",
   "id": "d893a1ac",
   "metadata": {},
   "source": [
    "### Question #5\n",
    "Afin de mesurer la diversité de noms à travers le temps, créez un graphique à ligne illustrant la somme des proportions des 1000 noms les plus populaires par année"
   ]
  },
  {
   "cell_type": "markdown",
   "id": "c4a852f8",
   "metadata": {},
   "source": [
    "### Question #6\n",
    "\n",
    "Créez une figure qui comporte deux diagrammes en bâton: un pour les noms de genre masculin et un autre pour les noms de genre féminin. Chacun des diagrammes doit illustrer la proportion de noms en fonction de la lettre par lequel il se termine pour les trois années suivantes: 1910, 1960 et 2010. "
   ]
  },
  {
   "cell_type": "markdown",
   "id": "c76d03ec",
   "metadata": {},
   "source": [
    "### Question #7\n",
    "\n",
    "Créez un diagramme à ligne qui montre la proportion de nom commençant par 'Lesl' par genre et par année. Utilisez seulement les 1000 noms les plus populaires par année et genre."
   ]
  },
  {
   "cell_type": "markdown",
   "id": "62831fed",
   "metadata": {},
   "source": [
    "## Performance à un cours de mathématiques\n",
    "Avec le fichier student-mat.csv qui contient beaucoup de données sur des étudiants pour un certain cours de mathématiques. \n",
    "\n",
    "Utilisez le test d'hypothèse afin de répondre à la question suivante:\n",
    "\n",
    "Existe-t-il une différence statistiquement significative entre la performance (la variable *G3* qui représente la note finale) des gars et des filles (la variable *sex*) à ce cours?\n",
    "\n",
    "Décrivez vos hypothèses, le risque d'erreur de type 1 acceptable et valider les conditions nécessaires pour le test choisi."
   ]
  }
 ],
 "metadata": {
  "kernelspec": {
   "display_name": "Python 3 (ipykernel)",
   "language": "python",
   "name": "python3"
  },
  "language_info": {
   "codemirror_mode": {
    "name": "ipython",
    "version": 3
   },
   "file_extension": ".py",
   "mimetype": "text/x-python",
   "name": "python",
   "nbconvert_exporter": "python",
   "pygments_lexer": "ipython3",
   "version": "3.11.3"
  }
 },
 "nbformat": 4,
 "nbformat_minor": 5
}

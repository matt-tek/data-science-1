{
 "cells": [
  {
   "cell_type": "markdown",
   "id": "084b8afc",
   "metadata": {},
   "source": [
    "### Projet 1 \n",
    "Groupe 3\n",
    "\n",
    "Mathieu Muty - MUTM22090200\n",
    "\n",
    "Gabrielle Walgraef - WALG13580100\n",
    "\n",
    "Mamoudou Camara - CAMM12080206"
   ]
  },
  {
   "cell_type": "code",
   "execution_count": 1,
   "id": "cf3a8c45",
   "metadata": {},
   "outputs": [],
   "source": [
    "# importation des libraries\n",
    "import numpy as np\n",
    "import pandas as pd"
   ]
  },
  {
   "cell_type": "code",
   "execution_count": 3,
   "id": "f5e615eb",
   "metadata": {},
   "outputs": [],
   "source": [
    "# chargement des fichiers csv\n",
    "environnement = pd.read_csv('./data_projet/environnement.csv')\n",
    "genre = pd.read_csv('./data_projet/genre.csv')\n",
    "meteo = pd.read_csv('./data_projet/meteo.csv')\n",
    "propulation = pd.read_csv('./data_projet/population.csv')\n",
    "surface = pd.read_csv('./data_projet/surface.csv')\n",
    "rapport = pd.read_excel('./data_projet/rapports-accident-2021.xlsx')"
   ]
  },
  {
   "cell_type": "markdown",
   "id": "14be6544",
   "metadata": {},
   "source": [
    "### Question 1\n",
    "Les fichiers suivants : environnement, genre, meteo, population ainsi que surface ne contiennent pas de valeur\n",
    "aberrante puisque ces fichiers nous donne les codes pour mieux comprendre le fichier excel 'rapport-accident-2021'\n",
    "\n",
    "Nous nous concentrons donc sur le fichier 'rapports-accident-2021.xlsx' afin de déceler les valeurs extrêmes \n",
    "ou aberrante"
   ]
  },
  {
   "cell_type": "code",
   "execution_count": 13,
   "id": "581c27b4",
   "metadata": {},
   "outputs": [
    {
     "name": "stdout",
     "output_type": "stream",
     "text": [
      "DT_ACCDN                          0\n",
      "HR_ACCDN                          0\n",
      "GENRE_CONDUCTEUR                  0\n",
      "AGE_CONDUCTEUR                    0\n",
      "gravite                           0\n",
      "VALEURS_DOMMAGES                  0\n",
      "NB_MORTS                          0\n",
      "NB_BLESSES_GRAVES                 0\n",
      "NB_BLESSES_LEGERS                 0\n",
      "NB_VEH_IMPLIQUES_ACCDN            0\n",
      "NB_DECES_PIETON                   0\n",
      "NB_BLESSES_PIETON                 0\n",
      "NB_VICTIMES_PIETON                0\n",
      "NB_DECES_MOTO                     0\n",
      "NB_BLESSES_MOTO                   0\n",
      "NB_VICTIMES_MOTO                  0\n",
      "NB_DECES_VELO                     0\n",
      "NB_BLESSES_VELO                   0\n",
      "NB_VICTIMES_VELO                  0\n",
      "REG_ADM                          15\n",
      "MRC                              15\n",
      "VITESSE_AUTOR                  9310\n",
      "CD_GENRE_ACCDN                  798\n",
      "CD_ETAT_SURFC                  1163\n",
      "CD_ECLRM                       1415\n",
      "CD_ENVRN_ACCDN                 1239\n",
      "CD_COND_METEO                  1352\n",
      "nb_automobile_camion_leger        0\n",
      "nb_camionLourd_tractRoutier       0\n",
      "nb_outil_equipement               0\n",
      "nb_tous_autobus_minibus           0\n",
      "nb_bicyclette                     0\n",
      "nb_cyclomoteur                    0\n",
      "nb_motocyclette                   0\n",
      "nb_taxi                           0\n",
      "nb_urgence                        0\n",
      "nb_motoneige                      0\n",
      "nb_VHR                            0\n",
      "nb_autres_types                   0\n",
      "nb_veh_non_precise                0\n",
      "dtype: int64\n",
      "0         False\n",
      "1         False\n",
      "2         False\n",
      "3         False\n",
      "4         False\n",
      "          ...  \n",
      "100514    False\n",
      "100515    False\n",
      "100516    False\n",
      "100517    False\n",
      "100518    False\n",
      "Name: REG_ADM, Length: 100519, dtype: bool\n"
     ]
    }
   ],
   "source": [
    "print(rapport.isna().sum())\n",
    "print(rapport['REG_ADM'].isna() == True)\n",
    "\n",
    "# CD_COND_METEO meteo -> imputer nan by autre (code 99)\n",
    "# CD_ENVRN_ACCDN environnement -> imputer nan by non précisé (code 0)\n",
    "# CD_GENRE_ACCDN genre -> impossible de le savoir (question 5 utilise cette column)\n",
    "# CD_ETAT_SURFC surface -> imputer nan by autre (code 99)"
   ]
  },
  {
   "cell_type": "code",
   "execution_count": null,
   "id": "4684a124",
   "metadata": {},
   "outputs": [],
   "source": []
  }
 ],
 "metadata": {
  "kernelspec": {
   "display_name": "Python 3 (ipykernel)",
   "language": "python",
   "name": "python3"
  },
  "language_info": {
   "codemirror_mode": {
    "name": "ipython",
    "version": 3
   },
   "file_extension": ".py",
   "mimetype": "text/x-python",
   "name": "python",
   "nbconvert_exporter": "python",
   "pygments_lexer": "ipython3",
   "version": "3.11.0"
  }
 },
 "nbformat": 4,
 "nbformat_minor": 5
}

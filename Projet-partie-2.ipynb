{
 "cells": [
  {
   "cell_type": "code",
   "execution_count": null,
   "id": "a8cc92e2",
   "metadata": {},
   "outputs": [],
   "source": [
    "# importation des libraries\n",
    "\n",
    "import pandas as pd\n",
    "import numpy as np\n",
    "import scipy.stats as stats\n",
    "import seaborn as sns\n",
    "import matplotlib as mpl\n",
    "import matplotlib.pyplot as plt\n",
    "\n",
    "# chargement des fichiers csv\n",
    "environnement = pd.read_csv('./data_projet/environnement.csv')\n",
    "genre = pd.read_csv('./data_projet/genre.csv')\n",
    "meteo = pd.read_csv('./data_projet/meteo.csv')\n",
    "propulation = pd.read_csv('./data_projet/population.csv')\n",
    "surface = pd.read_csv('./data_projet/surface.csv')\n",
    "rapport = pd.read_excel('./data_projet/rapports-accident-2021.xlsx')"
   ]
  }
 ],
 "metadata": {
  "kernelspec": {
   "display_name": "Python 3 (ipykernel)",
   "language": "python",
   "name": "python3"
  },
  "language_info": {
   "codemirror_mode": {
    "name": "ipython",
    "version": 3
   },
   "file_extension": ".py",
   "mimetype": "text/x-python",
   "name": "python",
   "nbconvert_exporter": "python",
   "pygments_lexer": "ipython3",
   "version": "3.11.0"
  }
 },
 "nbformat": 4,
 "nbformat_minor": 5
}

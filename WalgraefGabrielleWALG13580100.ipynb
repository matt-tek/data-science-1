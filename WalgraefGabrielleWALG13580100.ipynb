{
 "cells": [
  {
   "cell_type": "code",
   "execution_count": 73,
   "id": "3ecf4653",
   "metadata": {},
   "outputs": [],
   "source": [
    "import numpy as np\n",
    "import pandas as pd"
   ]
  },
  {
   "cell_type": "markdown",
   "id": "dc51b4ab",
   "metadata": {},
   "source": [
    "Question 1 :\n",
    "Soit la matrice A et la matrice B générées avec le code ci-dessous:\n",
    "\n",
    "A=np.random.RandomState(seed=3).randint(1,100,size=(50,40))\n",
    "\n",
    "B=np.random.RandomState(seed=4).randint(1,100,size=(50,))\n",
    "\n",
    "Additionnez le vecteur B à chaque colonne de la matrice A et affectez le résultat à la matrice C. \n",
    "\n",
    "Inscrire la somme de la première ligne de la matrice C."
   ]
  },
  {
   "cell_type": "code",
   "execution_count": 74,
   "id": "3e532cf0",
   "metadata": {},
   "outputs": [
    {
     "name": "stdout",
     "output_type": "stream",
     "text": [
      "2467\n"
     ]
    }
   ],
   "source": [
    "A = np.random.RandomState(seed = 4).randint(10, 41, size = (50, 40))\n",
    "B = np.random.RandomState(seed = 4).randint(10, 41, size = (50,))\n",
    "\n",
    "#print(\"A\", A)\n",
    "#print(\"B\", B)\n",
    "\n",
    "C = A + B[:, np.newaxis] #Addition de B a chaque colonne de la matrice A grâce a l'utilisation de newaxis qui ajoute une nouvelle dimension a ma matrice, ici transformation en colonne\n",
    "#et affectation le résultat à la matrice C\n",
    "\n",
    "#print(\"Bnew\", B[:, np.newaxis])\n",
    "print(np.sum(C[0, :])) #Affichage de la somme de la première ligne de la matrice C"
   ]
  },
  {
   "cell_type": "markdown",
   "id": "cceff554",
   "metadata": {},
   "source": [
    "Question 2:\n",
    "Soit la matrice A générée avec le code ci-dessous:\n",
    "\n",
    "A=np.random.RandomState(seed=3).randint(1,100,size=(25,50))\n",
    "\n",
    "\n",
    "Inscrire le nombre d'éléments que contient la matrice A."
   ]
  },
  {
   "cell_type": "code",
   "execution_count": 75,
   "id": "0007e677",
   "metadata": {},
   "outputs": [
    {
     "name": "stdout",
     "output_type": "stream",
     "text": [
      "1250\n"
     ]
    }
   ],
   "source": [
    "A = np.random.RandomState(seed = 3).randint(1, 100, size = (25, 50))\n",
    "#print(\"A\", A)\n",
    "\n",
    "print(np.size(A)) #affichage de la taille de la matrice A grâce size qui retourne la taille totale du tableau (nombre d’éléments)"
   ]
  },
  {
   "cell_type": "markdown",
   "id": "54da55ab",
   "metadata": {},
   "source": [
    "Question 3 :\n",
    "Soit la matrice A générée avec le code ci-dessous:\n",
    "\n",
    "A=np.random.RandomState(seed=3).randint(1,100,size=(50,40))\n",
    "\n",
    "Calculez la somme des éléments dans la troisième ligne de la matrice A qui sont divisibles par 2 (sans reste)."
   ]
  },
  {
   "cell_type": "code",
   "execution_count": 76,
   "id": "539b9d75",
   "metadata": {},
   "outputs": [
    {
     "name": "stdout",
     "output_type": "stream",
     "text": [
      "630\n"
     ]
    }
   ],
   "source": [
    "A = np.random.RandomState(seed = 3).randint(1, 100, size = (50, 40))\n",
    "third_line = A[2,:] #initialisation de third line en donnant la valeur de la 3eme ligne de A\n",
    "#print(\"A\", A)\n",
    "#print(\"td\", third_line)\n",
    "\n",
    "sum = np.sum(third_line[third_line % 2 == 0]) #calcul a l'aide de sum des valeurs divisible par 2\n",
    "print(sum)"
   ]
  },
  {
   "cell_type": "markdown",
   "id": "fbf60d8a",
   "metadata": {},
   "source": [
    "Question 4:\n",
    "Soit la matrice A générée avec le code ci-dessous: A=np.random.RandomState(seed=3).randint(1,100,size=(50,40)) \n",
    "\n",
    "Ajoutez la somme des éléments de la matrice A compris entre 10 et 20 inclusivement aux éléments de la 4e ligne de cette même matrice. \n",
    "\n",
    "Suite à cette opération, calculez la moyenne de tous les éléments de la matrice A arrondie à la première décimale."
   ]
  },
  {
   "cell_type": "code",
   "execution_count": 77,
   "id": "08a11cd9",
   "metadata": {},
   "outputs": [
    {
     "name": "stdout",
     "output_type": "stream",
     "text": [
      "118.0\n"
     ]
    }
   ],
   "source": [
    "A = np.random.RandomState(seed = 3).randint(1, 100,size = (50, 40)) \n",
    "#print(\"A\", A)\n",
    "\n",
    "sum = np.sum(A[(A >= 10) & (A <= 20)]) #ajout avec sum  des éléments compris entre 10 et 20 donc >= 10 et <= 20\n",
    "#print(\"sum\", sum)\n",
    "#print(\"third line\",(A[3, :]))\n",
    "\n",
    "(A[3, :])  = sum + (A[3, :]) #ajout de la somme aux élément de la 4 eme ligne de A\n",
    "#print(\"third line\",(A[3, :]))\n",
    "\n",
    "print(round(np.mean(A), 1)) #arrondie a la premiere décimale grace a round calcul de la moyenne grace a mean"
   ]
  },
  {
   "cell_type": "markdown",
   "id": "1c5d9b64",
   "metadata": {},
   "source": [
    "Question 5 :\n",
    "Soit la matrice A et la liste B générées avec le code ci-dessous:\n",
    "\n",
    "A=np.random.RandomState(seed=4).randint(1,10,size=(50,40))\n",
    "\n",
    "B= [1,2,3,4]\n",
    "\n",
    "Sélectionnez parmi les listes suivantes celle qui contient pour chaque élément de B combien de fois ceux-ci se retrouvent dans la matrice A"
   ]
  },
  {
   "cell_type": "code",
   "execution_count": 78,
   "id": "016f0227",
   "metadata": {},
   "outputs": [
    {
     "name": "stdout",
     "output_type": "stream",
     "text": [
      "241 216 220 211\n"
     ]
    }
   ],
   "source": [
    "A = np.random.RandomState(seed = 4).randint(1, 10, size = (50, 40))\n",
    "B = [1,2,3,4]\n",
    "\n",
    "#print(\"A\", A)\n",
    "\n",
    "#compte du nombre d'occurrences de la valeur 1 2 3 4  dans la matrice A\n",
    "print(np.count_nonzero(A == 1) , np.count_nonzero(A == 2) , np.count_nonzero(A == 3) , np.count_nonzero(A == 4))\n"
   ]
  },
  {
   "cell_type": "markdown",
   "id": "e0d3b67c",
   "metadata": {},
   "source": [
    "Question 6:\n",
    "Soit la matrice A générée avec le code ci-dessous:\n",
    "\n",
    "A=np.random.RandomState(seed=4).randint(1,30,size=(50,40))\n",
    "\n",
    "Sélectionnez parmi les choix suivants ceux qui correspondent aux coordonnées (indice de ligne, indice de colonne) de la 5e occurrence de nombre 9 dans la matrice A.\n",
    "\n"
   ]
  },
  {
   "cell_type": "code",
   "execution_count": 79,
   "id": "ca1686b6",
   "metadata": {},
   "outputs": [
    {
     "name": "stdout",
     "output_type": "stream",
     "text": [
      "1 2\n"
     ]
    }
   ],
   "source": [
    "A = np.random.RandomState(seed = 4).randint(1, 30, size = (50, 40))\n",
    "\n",
    "#print(\"A\", A)\n",
    "\n",
    "indices = np.where(A == 9) # utilisation de where en donnant 9 pour avoir un tuple avec 2 tableau d'indice des occurence de 9\n",
    "#print(\"Indice\", indices_9)\n",
    "row = indices[0][4] #selection du tableau 1 qui contient les indices de lignes je prends la 5 eme occurence\n",
    "col = indices[1][4] #selection du tableau 2 qui contient les indices de colonne je prends la 5eme occurence\n",
    "print(row, col)\n"
   ]
  },
  {
   "cell_type": "markdown",
   "id": "aeef3293",
   "metadata": {},
   "source": [
    "Question 7 : Utilisez le fichier lesions.xlsx et cause.csv pour répondre à la question.\n",
    "\n",
    "Imputez les valeurs manquantes pour la variable MONTANT_INDEMNITÉ_VERSÉ par la moyenne de celle-ci dans l'industrie (variable INDUSTRIE) de l'observation pour laquelle la valeur est manquante. Affectez le résultat de cette opération à la variable montant_indemnite_modif. \n",
    "\n",
    "Calculez la moyenne de cette nouvelle variable (montant_indemnite_modif) arrondie à la deuxième décimale.\n",
    "\n",
    "Attention: vous ne devez pas modifier les valeurs de la colonne MONTANT_INDEMNITÉ_VERSÉ"
   ]
  },
  {
   "cell_type": "code",
   "execution_count": 80,
   "id": "206cb89d",
   "metadata": {},
   "outputs": [
    {
     "name": "stdout",
     "output_type": "stream",
     "text": [
      "65945.84\n"
     ]
    }
   ],
   "source": [
    "lesion = pd.read_excel(\"lesions.xlsx\")\n",
    "\n",
    "lesion['montant_indemnite_modif'] = lesion['MONTANT_INDEMNITÉ_VERSÉ'] #ajout d'une colonne :montant_indemnite_modif pour ne pas modifier les valeurs de la colonne MONTANT_INDEMNITÉ_VERSÉ\n",
    "\n",
    "\n",
    "mean_industry = lesion.groupby('INDUSTRIE')['MONTANT_INDEMNITÉ_VERSÉ'].mean()  #regroupage des donnés de lesion par INDUSTRIE + calcul la moyenne de ['MONTANT_INDEMNITÉ_VERSÉ'] par industrie\n",
    "#print(mean_industry)\n",
    "mean_dic = mean_industry.to_dict() #transformer le groupby en dictionnaire\n",
    "#print(mean_dic)\n",
    "\n",
    "for index, row in lesion.iterrows(): #parcour de lesion\n",
    "    if pd.isna(row['montant_indemnite_modif']): #check si c'est une valeur manquante\n",
    "        industrie = row['INDUSTRIE'] #donne a industrie la valeur de la colonne \"INDUSTRIE\n",
    "        lesion.at[index, 'montant_indemnite_modif'] = mean_dic[industrie] #ajoute la valeur manquante de la colonne \"montant_indemnite_modif\"\n",
    "\n",
    "# calcul de la moyenne de la nouvelle variable montant_indemnite_modif + arrondissement à la 2eme déciamle\n",
    "montant_indemnite_modif = round(lesion['montant_indemnite_modif'].mean(), 2)\n",
    "\n",
    "\n",
    "print(montant_indemnite_modif)"
   ]
  },
  {
   "cell_type": "markdown",
   "id": "5d5b98c2",
   "metadata": {},
   "source": [
    "Question 8 : Utilisez le fichier lesions.xlsx et cause.csv pour répondre à la question.\n",
    "\n",
    "Combien y a-t-il de valeur extrême dans la variable AGE? \n",
    "\n",
    "Ces valeurs sont-elles aberrantes ? Justifiez votre réponse."
   ]
  },
  {
   "cell_type": "code",
   "execution_count": 81,
   "id": "b3e89554",
   "metadata": {},
   "outputs": [
    {
     "name": "stdout",
     "output_type": "stream",
     "text": [
      "14\n"
     ]
    }
   ],
   "source": [
    "lesion = pd.read_excel(\"lesions.xlsx\")\n",
    "\n",
    "# calcul des différents percentiles\n",
    "premier_quartile = np.percentile(lesion['AGE'], 25)\n",
    "troisieme_quartile = np.percentile(lesion['AGE'], 75.0)\n",
    "\n",
    "# calcul de l'écart interquartile\n",
    "ecart_interquartile = troisieme_quartile - premier_quartile\n",
    "\n",
    "# calcul du minimum et du maximum\n",
    "\n",
    "val_extrem_basse = premier_quartile - 1.5 * ecart_interquartile\n",
    "val_extrem_haute = troisieme_quartile + 1.5 * ecart_interquartile\n",
    "\n",
    "extrem_values = lesion[(lesion['AGE'] < val_extrem_basse) | (lesion['AGE'] > val_extrem_haute)] # | (lesion['AGE'] == 0)]\n",
    "# extremvalues = les valeurs inférieur à la valeur minimale attendue ou les valeurs supérieur à la valeur maximale attendue \n",
    "#print(extrem_values[\"AGE\"])\n",
    "sum_extrem = len(extrem_values)\n",
    "print(sum_extrem)"
   ]
  },
  {
   "cell_type": "markdown",
   "id": "abf679b8",
   "metadata": {},
   "source": [
    "Question 9 :\n",
    "\n",
    "Utilisez le fichier lesions.xlsx et cause.csv pour répondre à la question.\n",
    "\n",
    "Quelle est la moyenne d'âge (arrondie à une décimale) des hommes qui ont eu un accident au mois de Juin?"
   ]
  },
  {
   "cell_type": "code",
   "execution_count": 82,
   "id": "6f0488f2",
   "metadata": {},
   "outputs": [
    {
     "name": "stdout",
     "output_type": "stream",
     "text": [
      "48.3\n"
     ]
    }
   ],
   "source": [
    "\n",
    "lesion = pd.read_excel(\"lesions.xlsx\")\n",
    "\n",
    "#converti DATE_ACCIDENT en datetime\n",
    "lesion['DATE_ACCIDENT'] = pd.to_datetime(lesion['DATE_ACCIDENT'], format='%d/%m/%Y')\n",
    "\n",
    "# recuperer les accidents de Juin\n",
    "june_accident = lesion[lesion['DATE_ACCIDENT'].dt.month == 6]\n",
    "\n",
    "#recuperer les accidents impliquant des hommes\n",
    "accident_men_june = june_accident[june_accident['DESCR_SEX_PERS_PHYS'] == 'HOMME']\n",
    "\n",
    "# Calcul de la moyenne d'âge des hommes en juin + arrondissement à 1 décimale\n",
    "moyenne_age_hommes_juin = round(accident_men_june['AGE'].mean(), 1)\n",
    "\n",
    "print(moyenne_age_hommes_juin)"
   ]
  },
  {
   "cell_type": "markdown",
   "id": "fc2170ba",
   "metadata": {},
   "source": [
    "question 10 :\n",
    "Créez un DataFrame nommé jour_arret qui présente la moyenne du nombre de jour d'arrêt par genre et selon les 3 groupes d'âge suivants:\n",
    "25 ans et moins,\n",
    "25 à 50 ans\n",
    "50 ans +. \n",
    "Les valeurs de ce Dataframe doivent être arrondie à la deuxième décimale.\n",
    "Copiez le code qui produit ce Dataframe dans le champs pour la réponse ci-dessous."
   ]
  },
  {
   "cell_type": "code",
   "execution_count": 83,
   "id": "f1ff9670",
   "metadata": {},
   "outputs": [
    {
     "name": "stdout",
     "output_type": "stream",
     "text": [
      "  DESCR_SEX_PERS_PHYS       GROUPE_AGE  JOUR_ARRET_TRAVAIL\n",
      "0               FEMME  25 ans et moins              175.79\n",
      "1               FEMME      25 à 50 ans              181.33\n",
      "2               FEMME         50 ans +              182.47\n",
      "3               HOMME  25 ans et moins              168.33\n",
      "4               HOMME      25 à 50 ans              185.82\n",
      "5               HOMME         50 ans +              176.09\n"
     ]
    }
   ],
   "source": [
    "jour_arret = pd.read_excel(\"lesions.xlsx\")\n",
    "\n",
    "bins_age = [0, 25, 50, float(\"inf\")] #initialisation des intervals\n",
    "bins_labels = [\"25 ans et moins\", \"25 à 50 ans\", \"50 ans +\"] #iniatilisation des étiquettes\n",
    "\n",
    "jour_arret['GROUPE_AGE'] = pd.cut(jour_arret['AGE'], bins=bins_age, labels=bins_labels) #creation d'une nouvelle colonne GROUPE_AGE\n",
    "\n",
    "\n",
    "jour_arret = round(jour_arret.groupby(['DESCR_SEX_PERS_PHYS', 'GROUPE_AGE'])['JOUR_ARRET_TRAVAIL'].mean().reset_index(), 2) \n",
    "#regroupement des données par sexe, catégorie d'âge, + calcul de la moyenne des jours d'arrêt de travail pour chaque groupe puis arrondissement à la deuxieme décimale\n",
    "\n",
    "print(jour_arret)"
   ]
  },
  {
   "cell_type": "markdown",
   "id": "7cfa6211",
   "metadata": {},
   "source": [
    "Question 11 :\n",
    "Utilisez le fichier lesions.xlsx et cause.csv pour répondre à la question.\n",
    "\n",
    "Combien d'accident de travail ont une description de cause qui contient 3 mots ?"
   ]
  },
  {
   "cell_type": "code",
   "execution_count": 84,
   "id": "ff7dc3d7",
   "metadata": {},
   "outputs": [
    {
     "name": "stdout",
     "output_type": "stream",
     "text": [
      "10\n"
     ]
    }
   ],
   "source": [
    "df = pd.read_csv(\"./cause.csv\")\n",
    "\n",
    "count = 0\n",
    "#parcour dataframe\n",
    "for index, row in df.iterrows():\n",
    "    words = row['DESCR_AGEN_CAUS_LESI'].split('|') #division des str par |\n",
    "    if len(words) == 3: \n",
    "        count += 1\n",
    "\n",
    "print(count)"
   ]
  },
  {
   "cell_type": "markdown",
   "id": "3a6a8227",
   "metadata": {},
   "source": [
    "Question 12: Utilisez le fichier lesions.xlsx et cause.csv pour répondre à la question.\n",
    "\n",
    "Combien de jours ce sont écoulés entre l'accident ACC_1062 et l'accident ACC_833?"
   ]
  },
  {
   "cell_type": "code",
   "execution_count": 85,
   "id": "405b137d",
   "metadata": {},
   "outputs": [
    {
     "name": "stdout",
     "output_type": "stream",
     "text": [
      "190\n"
     ]
    }
   ],
   "source": [
    "lesion = pd.read_excel(\"lesions.xlsx\")\n",
    "\n",
    "# Convertir la colonne de dates en format de date\n",
    "lesion['DATE_ACCIDENT'] = pd.to_datetime(lesion['DATE_ACCIDENT'], format='%d/%m/%Y')\n",
    "\n",
    "# Recherche de la date de l'accident ACC_1062 avec iloc\n",
    "date_acc_1062 = lesion[lesion['ID'] == 'ACC_1062']['DATE_ACCIDENT'].iloc[0]\n",
    "#print(date_acc_1062)\n",
    "\n",
    "date_acc_833 = lesion[lesion['ID'] == 'ACC_833']['DATE_ACCIDENT'].iloc[0]\n",
    "#print(date_acc_833)\n",
    "\n",
    "# Calcul de la différence entre les deux dates\n",
    "days = (date_acc_1062 - date_acc_833).days\n",
    "\n",
    "print(days)"
   ]
  },
  {
   "cell_type": "markdown",
   "id": "26ef2926",
   "metadata": {},
   "source": [
    "Question 13: Utilisez le fichier lesions.xlsx et cause.csv pour répondre à la question.\n",
    "\n",
    "Quelle est l'industrie avec le plus grand ratio d'accidents impliquant des hommes et des femmes?\n",
    "\n",
    "Le ratio d'accidents se calcule en divisant le nombre d'accidents impliquant des hommes par le nombre d'accident impliquant des femmes. \n",
    "\n",
    "Ne considérez pas les industries qui n'ont que des femmes ou que des hommes impliqués dans leur accident de travail. "
   ]
  },
  {
   "cell_type": "code",
   "execution_count": 86,
   "id": "09dc6592",
   "metadata": {},
   "outputs": [
    {
     "name": "stdout",
     "output_type": "stream",
     "text": [
      "SERVICES PUBLICS\n"
     ]
    }
   ],
   "source": [
    "import pandas as pd\n",
    "\n",
    "lesions = pd.read_excel('lesions.xlsx')\n",
    "\n",
    "# Filtre les industries avec des accidents d'hommes et de femmes\n",
    "def filter_industries(group):\n",
    "    contains_homme = \"HOMME\" in group['DESCR_SEX_PERS_PHYS'].values\n",
    "    contains_femme = \"FEMME\" in group['DESCR_SEX_PERS_PHYS'].values\n",
    "    return contains_homme and contains_femme\n",
    "\n",
    "filtered = lesions.groupby('INDUSTRIE').filter(filter_industries)\n",
    "\n",
    "# Creation d'une table pivot pour le nombre total d'accidents par genre et par industrie\n",
    "pivot_table = pd.pivot_table(filtered, values='ID', index=['INDUSTRIE'], columns=['DESCR_SEX_PERS_PHYS'], aggfunc='count', fill_value=0)\n",
    "#Calcul du ratio\n",
    "pivot_table['Ratio_Homme_Femme'] = pivot_table['HOMME'] / pivot_table['FEMME']\n",
    "#avoir le ratio maximum grace a idxmax\n",
    "indice_max_ratio = pivot_table['Ratio_Homme_Femme'].idxmax()\n",
    "\n",
    "print(indice_max_ratio)\n",
    "\n"
   ]
  },
  {
   "cell_type": "markdown",
   "id": "e7779c7d",
   "metadata": {},
   "source": [
    "Question 14 : Utilisez le fichier lesions.xlsx et cause.csv pour répondre à la question.\n",
    "\n",
    "Quelle est la moyenne (arrondie à deux décimales) d'âge des victimes d'accidents dont la valeur est manquante pour la variable MONTANT_INDEMNITÉ_VERSÉ ?"
   ]
  },
  {
   "cell_type": "code",
   "execution_count": 88,
   "id": "bed5a666",
   "metadata": {},
   "outputs": [
    {
     "name": "stdout",
     "output_type": "stream",
     "text": [
      "46.48\n"
     ]
    }
   ],
   "source": [
    "lesion = pd.read_excel(\"lesions.xlsx\")\n",
    "\n",
    "#mis dans missing les lignes du DataFrame lesion où la colonne 'MONTANT_INDEMNITÉ_VERSÉ' est nulle\n",
    "missing = lesion[lesion['MONTANT_INDEMNITÉ_VERSÉ'].isnull()]\n",
    "\n",
    "missing_mean = round(missing['AGE'].mean(), 2)\n",
    "\n",
    "print(missing_mean)"
   ]
  }
 ],
 "metadata": {
  "kernelspec": {
   "display_name": "Python 3 (ipykernel)",
   "language": "python",
   "name": "python3"
  },
  "language_info": {
   "codemirror_mode": {
    "name": "ipython",
    "version": 3
   },
   "file_extension": ".py",
   "mimetype": "text/x-python",
   "name": "python",
   "nbconvert_exporter": "python",
   "pygments_lexer": "ipython3",
   "version": "3.11.0"
  }
 },
 "nbformat": 4,
 "nbformat_minor": 5
}

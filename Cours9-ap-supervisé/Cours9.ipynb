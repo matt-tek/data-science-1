{
 "cells": [
  {
   "cell_type": "markdown",
   "id": "d6617710",
   "metadata": {},
   "source": [
    "# Apprentissage non-supervisé"
   ]
  },
  {
   "cell_type": "code",
   "execution_count": 2,
   "id": "6bde9fce",
   "metadata": {},
   "outputs": [],
   "source": [
    "import pandas as pd\n",
    "import numpy as np\n",
    "from scipy.cluster.hierarchy import linkage, fcluster, dendrogram"
   ]
  },
  {
   "cell_type": "code",
   "execution_count": 3,
   "id": "4bba9127",
   "metadata": {},
   "outputs": [],
   "source": [
    "#import sys\n",
    "#!{sys.executable} -m pip install gower\n",
    "import gower"
   ]
  },
  {
   "cell_type": "markdown",
   "id": "e576b319",
   "metadata": {},
   "source": [
    "## Mesure de distance"
   ]
  },
  {
   "cell_type": "code",
   "execution_count": 4,
   "id": "e934108a",
   "metadata": {},
   "outputs": [],
   "source": [
    "# importation des données de musique.csv\n",
    "data=pd.read_csv('./musique.csv')"
   ]
  },
  {
   "cell_type": "code",
   "execution_count": 4,
   "id": "2716894d",
   "metadata": {},
   "outputs": [
    {
     "data": {
      "text/html": [
       "<div>\n",
       "<style scoped>\n",
       "    .dataframe tbody tr th:only-of-type {\n",
       "        vertical-align: middle;\n",
       "    }\n",
       "\n",
       "    .dataframe tbody tr th {\n",
       "        vertical-align: top;\n",
       "    }\n",
       "\n",
       "    .dataframe thead th {\n",
       "        text-align: right;\n",
       "    }\n",
       "</style>\n",
       "<table border=\"1\" class=\"dataframe\">\n",
       "  <thead>\n",
       "    <tr style=\"text-align: right;\">\n",
       "      <th></th>\n",
       "      <th>id</th>\n",
       "      <th>m1</th>\n",
       "      <th>m2</th>\n",
       "      <th>m3</th>\n",
       "      <th>m4</th>\n",
       "      <th>m5</th>\n",
       "      <th>m6</th>\n",
       "      <th>m7</th>\n",
       "      <th>m8</th>\n",
       "      <th>m9</th>\n",
       "      <th>genre</th>\n",
       "      <th>freq_radio</th>\n",
       "      <th>musicien</th>\n",
       "      <th>transport</th>\n",
       "    </tr>\n",
       "  </thead>\n",
       "  <tbody>\n",
       "    <tr>\n",
       "      <th>0</th>\n",
       "      <td>11</td>\n",
       "      <td>8</td>\n",
       "      <td>9</td>\n",
       "      <td>7</td>\n",
       "      <td>6</td>\n",
       "      <td>6</td>\n",
       "      <td>6</td>\n",
       "      <td>2</td>\n",
       "      <td>7</td>\n",
       "      <td>2</td>\n",
       "      <td>Femme</td>\n",
       "      <td>1_jamais</td>\n",
       "      <td>non</td>\n",
       "      <td>auto</td>\n",
       "    </tr>\n",
       "    <tr>\n",
       "      <th>1</th>\n",
       "      <td>13</td>\n",
       "      <td>8</td>\n",
       "      <td>7</td>\n",
       "      <td>3</td>\n",
       "      <td>4</td>\n",
       "      <td>2</td>\n",
       "      <td>4</td>\n",
       "      <td>8</td>\n",
       "      <td>8</td>\n",
       "      <td>8</td>\n",
       "      <td>Femme</td>\n",
       "      <td>1_jamais</td>\n",
       "      <td>non</td>\n",
       "      <td>auto</td>\n",
       "    </tr>\n",
       "    <tr>\n",
       "      <th>2</th>\n",
       "      <td>1</td>\n",
       "      <td>10</td>\n",
       "      <td>8</td>\n",
       "      <td>8</td>\n",
       "      <td>8</td>\n",
       "      <td>9</td>\n",
       "      <td>7</td>\n",
       "      <td>9</td>\n",
       "      <td>10</td>\n",
       "      <td>8</td>\n",
       "      <td>Homme</td>\n",
       "      <td>1_jamais</td>\n",
       "      <td>non</td>\n",
       "      <td>bus</td>\n",
       "    </tr>\n",
       "    <tr>\n",
       "      <th>3</th>\n",
       "      <td>10</td>\n",
       "      <td>8</td>\n",
       "      <td>10</td>\n",
       "      <td>9</td>\n",
       "      <td>6</td>\n",
       "      <td>5</td>\n",
       "      <td>6</td>\n",
       "      <td>4</td>\n",
       "      <td>5</td>\n",
       "      <td>2</td>\n",
       "      <td>Femme</td>\n",
       "      <td>1_jamais</td>\n",
       "      <td>non</td>\n",
       "      <td>bus</td>\n",
       "    </tr>\n",
       "    <tr>\n",
       "      <th>4</th>\n",
       "      <td>21</td>\n",
       "      <td>3</td>\n",
       "      <td>2</td>\n",
       "      <td>3</td>\n",
       "      <td>4</td>\n",
       "      <td>3</td>\n",
       "      <td>5</td>\n",
       "      <td>7</td>\n",
       "      <td>8</td>\n",
       "      <td>9</td>\n",
       "      <td>Homme</td>\n",
       "      <td>1_jamais</td>\n",
       "      <td>non</td>\n",
       "      <td>bus</td>\n",
       "    </tr>\n",
       "  </tbody>\n",
       "</table>\n",
       "</div>"
      ],
      "text/plain": [
       "   id  m1  m2  m3  m4  m5  m6  m7  m8  m9  genre freq_radio musicien transport\n",
       "0  11   8   9   7   6   6   6   2   7   2  Femme   1_jamais      non      auto\n",
       "1  13   8   7   3   4   2   4   8   8   8  Femme   1_jamais      non      auto\n",
       "2   1  10   8   8   8   9   7   9  10   8  Homme   1_jamais      non       bus\n",
       "3  10   8  10   9   6   5   6   4   5   2  Femme   1_jamais      non       bus\n",
       "4  21   3   2   3   4   3   5   7   8   9  Homme   1_jamais      non       bus"
      ]
     },
     "execution_count": 4,
     "metadata": {},
     "output_type": "execute_result"
    }
   ],
   "source": [
    "data.head()"
   ]
  },
  {
   "cell_type": "code",
   "execution_count": 5,
   "id": "77f6da41",
   "metadata": {},
   "outputs": [
    {
     "name": "stdout",
     "output_type": "stream",
     "text": [
      "<class 'pandas.core.frame.DataFrame'>\n",
      "RangeIndex: 47 entries, 0 to 46\n",
      "Data columns (total 14 columns):\n",
      " #   Column      Non-Null Count  Dtype \n",
      "---  ------      --------------  ----- \n",
      " 0   id          47 non-null     int64 \n",
      " 1   m1          47 non-null     int64 \n",
      " 2   m2          47 non-null     int64 \n",
      " 3   m3          47 non-null     int64 \n",
      " 4   m4          47 non-null     int64 \n",
      " 5   m5          47 non-null     int64 \n",
      " 6   m6          47 non-null     int64 \n",
      " 7   m7          47 non-null     int64 \n",
      " 8   m8          47 non-null     int64 \n",
      " 9   m9          47 non-null     int64 \n",
      " 10  genre       47 non-null     object\n",
      " 11  freq_radio  47 non-null     object\n",
      " 12  musicien    47 non-null     object\n",
      " 13  transport   47 non-null     object\n",
      "dtypes: int64(10), object(4)\n",
      "memory usage: 5.3+ KB\n"
     ]
    }
   ],
   "source": [
    "data.info()"
   ]
  },
  {
   "cell_type": "markdown",
   "id": "9a38c179",
   "metadata": {},
   "source": [
    "Puisqu'on a des variables de différents type nous allons utiliser la formule de Gower afin de calculer la matrice de distance. On peut utiliser la librairie `gower`. Voici ces arguments:\n",
    "* data_x : données\n",
    "* weight : poids de chaque variable, par défaut c'est un vecteur de 1\n",
    "* cat_features : vecteur de booléen qui indique si une variable est catégorielle ou non, par défaut la fonction va tenter de le déterminer si rien n'est spécifié."
   ]
  },
  {
   "cell_type": "code",
   "execution_count": 11,
   "id": "dd35925a",
   "metadata": {},
   "outputs": [],
   "source": [
    "# on retire la colonne id car ce n'est pas une variable\n",
    "data_x=data.iloc[:,1:]\n",
    "# on décide de mettre plus de poids sur la musique m2\n",
    "weights=np.array([1 for i in data_x.columns])\n",
    "weights[1]=2\n",
    "# on indique les variables catégorielle\n",
    "cat=np.array([False for i in data_x.columns])\n",
    "cat[[9,10,11,12]]=True\n",
    "gower_mat=gower.gower_matrix(data_x,weight=weights,cat_features=cat)"
   ]
  },
  {
   "cell_type": "markdown",
   "id": "1ccdf6f5",
   "metadata": {},
   "source": [
    "## K-Moyenne"
   ]
  },
  {
   "cell_type": "code",
   "execution_count": 7,
   "id": "82312c4e",
   "metadata": {},
   "outputs": [],
   "source": [
    "# on retire les variables qui ne sont pas continue\n",
    "df=data.loc[:,'m1':'m9']"
   ]
  },
  {
   "cell_type": "code",
   "execution_count": 23,
   "id": "1e00ff03",
   "metadata": {},
   "outputs": [],
   "source": [
    "from sklearn.cluster import KMeans"
   ]
  },
  {
   "cell_type": "code",
   "execution_count": 27,
   "id": "b6bca027",
   "metadata": {},
   "outputs": [
    {
     "name": "stderr",
     "output_type": "stream",
     "text": [
      "C:\\ProgramData\\anaconda3\\Lib\\site-packages\\sklearn\\cluster\\_kmeans.py:1382: UserWarning: KMeans is known to have a memory leak on Windows with MKL, when there are less chunks than available threads. You can avoid it by setting the environment variable OMP_NUM_THREADS=1.\n",
      "  warnings.warn(\n"
     ]
    }
   ],
   "source": [
    "kmeans = KMeans(n_clusters=6,# Nombre de groupes\n",
    "                random_state=0, # pour la reproductibilité du code\n",
    "                n_init=1).fit(df) #nb de fois que l'algo est exécuté avec differents centroides."
   ]
  },
  {
   "cell_type": "code",
   "execution_count": 10,
   "id": "cd31f053",
   "metadata": {},
   "outputs": [
    {
     "data": {
      "text/plain": [
       "array([2, 1, 5, 2, 3, 3, 3, 3, 3, 3, 2, 2, 2, 2, 3, 3, 3, 5, 5, 2, 2, 2,\n",
       "       5, 1, 5, 0, 5, 1, 1, 2, 1, 1, 1, 1, 3, 5, 5, 5, 0, 5, 4, 4, 0, 4,\n",
       "       0, 5, 2])"
      ]
     },
     "execution_count": 10,
     "metadata": {},
     "output_type": "execute_result"
    }
   ],
   "source": [
    "# on obtient le groupe assigné à chacune des observations\n",
    "kmeans.labels_"
   ]
  },
  {
   "cell_type": "code",
   "execution_count": 11,
   "id": "ff99b74d",
   "metadata": {},
   "outputs": [
    {
     "data": {
      "text/plain": [
       "array([[3.75      , 5.        , 5.25      , 9.        , 7.75      ,\n",
       "        9.75      , 4.75      , 6.        , 8.25      ],\n",
       "       [8.25      , 8.5       , 2.625     , 4.        , 3.875     ,\n",
       "        4.125     , 8.375     , 8.625     , 8.        ],\n",
       "       [7.72727273, 8.81818182, 7.90909091, 4.63636364, 5.81818182,\n",
       "        7.09090909, 3.36363636, 5.27272727, 2.        ],\n",
       "       [2.3       , 3.8       , 3.9       , 4.8       , 3.6       ,\n",
       "        5.2       , 8.4       , 8.8       , 6.5       ],\n",
       "       [3.33333333, 2.33333333, 4.33333333, 2.33333333, 3.33333333,\n",
       "        2.33333333, 3.33333333, 4.        , 0.66666667],\n",
       "       [5.90909091, 5.36363636, 7.        , 8.54545455, 9.54545455,\n",
       "        8.90909091, 6.18181818, 6.36363636, 7.45454545]])"
      ]
     },
     "execution_count": 11,
     "metadata": {},
     "output_type": "execute_result"
    }
   ],
   "source": [
    "# on obtient les coordonnées de chacun des centroides des groupes\n",
    "kmeans.cluster_centers_"
   ]
  },
  {
   "cell_type": "markdown",
   "id": "cde23b8e",
   "metadata": {},
   "source": [
    "##  K-médoïdes"
   ]
  },
  {
   "cell_type": "code",
   "execution_count": 14,
   "id": "787c9f59",
   "metadata": {},
   "outputs": [],
   "source": [
    "#import sys\n",
    "#!{sys.executable} -m pip install scikit-learn-extra"
   ]
  },
  {
   "cell_type": "code",
   "execution_count": 16,
   "id": "5040d051",
   "metadata": {},
   "outputs": [],
   "source": [
    "from sklearn_extra.cluster import KMedoids"
   ]
  },
  {
   "cell_type": "code",
   "execution_count": 17,
   "id": "a091b87e",
   "metadata": {},
   "outputs": [],
   "source": [
    "# Si on veut utiliser la méthode K-medoide sur toutes les données\n",
    "# avec différents types de variable on doit utiliser notre\n",
    "# matrice de distance\n",
    "kmedoids = KMedoids(n_clusters=6, random_state=0).fit(gower_mat)"
   ]
  },
  {
   "cell_type": "code",
   "execution_count": 18,
   "id": "b86ae8c0",
   "metadata": {},
   "outputs": [
    {
     "data": {
      "text/plain": [
       "array([2, 0, 4, 2, 0, 0, 0, 0, 0, 3, 2, 2, 2, 2, 3, 3, 3, 5, 4, 2, 2, 2,\n",
       "       5, 0, 5, 4, 4, 0, 0, 2, 0, 0, 0, 0, 0, 5, 5, 5, 5, 5, 1, 1, 4, 1,\n",
       "       5, 5, 2])"
      ]
     },
     "execution_count": 18,
     "metadata": {},
     "output_type": "execute_result"
    }
   ],
   "source": [
    "# on obtient le groupe assigné à chacune des observations\n",
    "kmedoids.labels_"
   ]
  },
  {
   "cell_type": "code",
   "execution_count": 19,
   "id": "c4570f31",
   "metadata": {},
   "outputs": [
    {
     "data": {
      "text/plain": [
       "array([[0.36190477, 0.24861111, 0.28075397, 0.4626984 , 0.37281746,\n",
       "        0.33313492, 0.35496032, 0.38670635, 0.32876983, 0.3529762 ,\n",
       "        0.4295635 , 0.4251984 , 0.43015873, 0.4434524 , 0.25416666,\n",
       "        0.33690476, 0.38373017, 0.45238096, 0.28670636, 0.37261906,\n",
       "        0.475     , 0.43948412, 0.53055555, 0.18888889, 0.5511905 ,\n",
       "        0.46130952, 0.34484127, 0.27539682, 0.29742062, 0.29305556,\n",
       "        0.09583333, 0.10476191, 0.        , 0.20198412, 0.18392858,\n",
       "        0.41170636, 0.42698413, 0.38690478, 0.4128968 , 0.36369047,\n",
       "        0.44583333, 0.4081349 , 0.33531746, 0.5253968 , 0.43174604,\n",
       "        0.4375    , 0.36726192],\n",
       "       [0.3561508 , 0.35595238, 0.66309524, 0.43551588, 0.3888889 ,\n",
       "        0.45873016, 0.40674603, 0.40515873, 0.48650795, 0.40714285,\n",
       "        0.32380953, 0.34603176, 0.3371032 , 0.36825398, 0.4059524 ,\n",
       "        0.26607144, 0.24781746, 0.41011906, 0.60833335, 0.3311508 ,\n",
       "        0.40138888, 0.42301586, 0.3954365 , 0.48710316, 0.4263889 ,\n",
       "        0.45079365, 0.6128968 , 0.56329364, 0.48015872, 0.24801588,\n",
       "        0.35      , 0.37480158, 0.44583333, 0.47400793, 0.30793652,\n",
       "        0.26031747, 0.3561508 , 0.25138888, 0.2595238 , 0.31031746,\n",
       "        0.        , 0.13531746, 0.46765873, 0.17559524, 0.3498016 ,\n",
       "        0.42896825, 0.33253968],\n",
       "       [0.15396826, 0.33630952, 0.46488094, 0.21746032, 0.5890873 ,\n",
       "        0.50416666, 0.5573413 , 0.57162696, 0.5795635 , 0.55575395,\n",
       "        0.06289683, 0.05853175, 0.        , 0.04702381, 0.44742063,\n",
       "        0.3234127 , 0.33690476, 0.2547619 , 0.3529762 , 0.05753968,\n",
       "        0.14603175, 0.16527778, 0.34325397, 0.3265873 , 0.39404762,\n",
       "        0.35734126, 0.425     , 0.41666666, 0.403373  , 0.15138888,\n",
       "        0.36607143, 0.37698412, 0.43015873, 0.4686508 , 0.45654762,\n",
       "        0.37083334, 0.3968254 , 0.36190477, 0.41607141, 0.36527777,\n",
       "        0.3371032 , 0.4422619 , 0.50277776, 0.42936507, 0.41904762,\n",
       "        0.38075396, 0.24146825],\n",
       "       [0.3579365 , 0.25456348, 0.5295635 , 0.45873016, 0.35892856,\n",
       "        0.3109127 , 0.35892856, 0.32876983, 0.3386905 , 0.29503968,\n",
       "        0.3077381 , 0.33194444, 0.33690476, 0.35019842, 0.15813492,\n",
       "        0.06111111, 0.        , 0.29444444, 0.3890873 , 0.2793651 ,\n",
       "        0.3674603 , 0.34623015, 0.30119047, 0.31785715, 0.35357141,\n",
       "        0.32083333, 0.42579365, 0.4047619 , 0.33035713, 0.32837301,\n",
       "        0.3200397 , 0.37698412, 0.38373017, 0.42976192, 0.23154762,\n",
       "        0.34107143, 0.3904762 , 0.33214286, 0.3295635 , 0.34464285,\n",
       "        0.24781746, 0.38313493, 0.49484128, 0.31468254, 0.384127  ,\n",
       "        0.47400793, 0.3954365 ],\n",
       "       [0.44404763, 0.4081349 , 0.25654763, 0.4892857 , 0.43075398,\n",
       "        0.28988096, 0.446627  , 0.3593254 , 0.29742062, 0.4128968 ,\n",
       "        0.39424604, 0.42003968, 0.425     , 0.42242062, 0.34583333,\n",
       "        0.37896827, 0.42579365, 0.26626983, 0.17003968, 0.38333333,\n",
       "        0.36825398, 0.34702381, 0.30476192, 0.2968254 , 0.23809524,\n",
       "        0.17996031, 0.        , 0.28849205, 0.25019842, 0.43234128,\n",
       "        0.346627  , 0.3718254 , 0.34484127, 0.42460316, 0.35496032,\n",
       "        0.38432539, 0.3996032 , 0.37738097, 0.38551587, 0.33630952,\n",
       "        0.6128968 , 0.5910714 , 0.25238097, 0.60515875, 0.27738094,\n",
       "        0.25138888, 0.41210318],\n",
       "       [0.33630952, 0.3892857 , 0.45039684, 0.43511906, 0.4563492 ,\n",
       "        0.44087303, 0.44047618, 0.43888888, 0.4626984 , 0.42103174,\n",
       "        0.32579365, 0.365873  , 0.37083334, 0.36825398, 0.40396824,\n",
       "        0.2799603 , 0.34107143, 0.1656746 , 0.3638889 , 0.32916668,\n",
       "        0.38551587, 0.40873015, 0.20059524, 0.52242064, 0.1998016 ,\n",
       "        0.284127  , 0.38432539, 0.6125    , 0.51349205, 0.24960318,\n",
       "        0.38333333, 0.39424604, 0.41170636, 0.50734127, 0.30595237,\n",
       "        0.        , 0.16130953, 0.02480159, 0.07896826, 0.08373016,\n",
       "        0.26031747, 0.3813492 , 0.27083334, 0.33829364, 0.18511905,\n",
       "        0.1845238 , 0.28650793]], dtype=float32)"
      ]
     },
     "execution_count": 19,
     "metadata": {},
     "output_type": "execute_result"
    }
   ],
   "source": [
    "# on obtient les coordonnées de chacun des centroides des groupes\n",
    "kmedoids.cluster_centers_"
   ]
  },
  {
   "cell_type": "markdown",
   "id": "93f83ee4",
   "metadata": {},
   "source": [
    "## Algorithme hiérarchique"
   ]
  },
  {
   "cell_type": "markdown",
   "id": "dfd5aa36",
   "metadata": {},
   "source": [
    "### Plus proche voisin"
   ]
  },
  {
   "cell_type": "code",
   "execution_count": 28,
   "id": "c3954e0b",
   "metadata": {},
   "outputs": [],
   "source": [
    "from matplotlib import pyplot as plt\n",
    "from scipy.cluster.hierarchy import dendrogram"
   ]
  },
  {
   "cell_type": "code",
   "execution_count": 24,
   "id": "5a592a57",
   "metadata": {},
   "outputs": [
    {
     "name": "stdout",
     "output_type": "stream",
     "text": [
      "Assignation des groupes: [4 3 6 4 2 2 2 2 2 2 4 4 4 4 2 2 2 5 6 4 4 4 5 3 5 5 6 3 3 4 3 3 3 3 2 5 5\n",
      " 5 5 5 1 1 5 1 5 5 4]\n"
     ]
    },
    {
     "data": {
      "image/png": "[encoded data removed]",
      "text/plain": [
       "<Figure size 640x480 with 1 Axes>"
      ]
     },
     "metadata": {},
     "output_type": "display_data"
    }
   ],
   "source": [
    "n=len(data) #nb obs\n",
    "k=6 #nb de groupe\n",
    "X = data.loc[:,'m1':'m9'] #seulement variable continu\n",
    "# création de la matrice des regroupements\n",
    "Z=linkage(X,method='single')\n",
    "# Assignation des observation à un groupe\n",
    "T=fcluster(Z, k, 'maxclust')\n",
    "# Les étiquettes pour l'axe des x\n",
    "labels=list('' for i in range(n))\n",
    "for i in range(n):\n",
    "    labels[i]=str(i)\n",
    "\n",
    "# où on veut couper l'arbre pour avoir des couleurs différentes\n",
    "ct=Z[-(k-1),2]  \n",
    "\n",
    "#Dendogramme\n",
    "P =dendrogram(Z,labels=labels,color_threshold=ct)\n",
    "print('Assignation des groupes:', T)"
   ]
  },
  {
   "cell_type": "markdown",
   "id": "22c2ea82",
   "metadata": {},
   "source": [
    "### Voisin plus distant"
   ]
  },
  {
   "cell_type": "code",
   "execution_count": 21,
   "id": "8b7748c4",
   "metadata": {},
   "outputs": [
    {
     "name": "stdout",
     "output_type": "stream",
     "text": [
      "Assignation des groupes: [2 6 3 2 5 5 5 5 5 5 2 2 2 2 5 5 5 4 3 2 2 2 4 6 4 4 3 6 6 2 6 6 6 6 5 4 4\n",
      " 4 4 4 1 1 4 1 4 4 2]\n"
     ]
    },
    {
     "data": {
      "image/png": "[encoded data removed]",
      "text/plain": [
       "<Figure size 640x480 with 1 Axes>"
      ]
     },
     "metadata": {},
     "output_type": "display_data"
    }
   ],
   "source": [
    "n=len(data) #nb obs\n",
    "k=6 #nb de groupe\n",
    "X = data.loc[:,'m1':'m9'] #seulement variable continu\n",
    "Z= linkage(X,method='complete') # création de la matrice des regroupements\n",
    "T = fcluster(Z, k, 'maxclust') # Assignation des observation à un groupe\n",
    "\n",
    "# Les étiquettes pour l'axe des x\n",
    "labels=list('' for i in range(n))\n",
    "for i in range(n):\n",
    "    labels[i]=str(i)\n",
    "\n",
    "# où on veut couper l'arbre pour avoir des couleurs différentes\n",
    "ct=Z[-(k-1),2]  \n",
    "\n",
    "#Dendogramme\n",
    "P =dendrogram(Z,labels=labels,color_threshold=ct)\n",
    "print('Assignation des groupes:', T)"
   ]
  },
  {
   "cell_type": "code",
   "execution_count": 25,
   "id": "65bfc0ba",
   "metadata": {},
   "outputs": [
    {
     "data": {
      "text/plain": [
       "<Axes: xlabel='groupes', ylabel='m9'>"
      ]
     },
     "execution_count": 25,
     "metadata": {},
     "output_type": "execute_result"
    },
    {
     "data": {
      "image/png": "[encoded data removed]",
      "text/plain": [
       "<Figure size 1200x800 with 9 Axes>"
      ]
     },
     "metadata": {},
     "output_type": "display_data"
    }
   ],
   "source": [
    "import seaborn as sns\n",
    "analysis=data.loc[:,'m1':'m9']\n",
    "analysis['groupes']=T\n",
    "fig, ax = plt.subplots(nrows=3, ncols=3, figsize=(12, 8))\n",
    "sns.boxplot(y=analysis['m1'],x=analysis['groupes'],ax=ax[0,0])\n",
    "sns.boxplot(y=analysis['m2'],x=analysis['groupes'],ax=ax[0,1])\n",
    "sns.boxplot(y=analysis['m3'],x=analysis['groupes'],ax=ax[0,2])\n",
    "sns.boxplot(y=analysis['m4'],x=analysis['groupes'],ax=ax[1,0])\n",
    "sns.boxplot(y=analysis['m5'],x=analysis['groupes'],ax=ax[1,1])\n",
    "sns.boxplot(y=analysis['m6'],x=analysis['groupes'],ax=ax[1,2])\n",
    "sns.boxplot(y=analysis['m7'],x=analysis['groupes'],ax=ax[2,0])\n",
    "sns.boxplot(y=analysis['m8'],x=analysis['groupes'],ax=ax[2,1])\n",
    "sns.boxplot(y=analysis['m9'],x=analysis['groupes'],ax=ax[2,2])"
   ]
  },
  {
   "cell_type": "markdown",
   "id": "22c0915d",
   "metadata": {},
   "source": [
    "## Segmentation en 2 étapes"
   ]
  },
  {
   "cell_type": "code",
   "execution_count": 24,
   "id": "57091776",
   "metadata": {},
   "outputs": [
    {
     "name": "stderr",
     "output_type": "stream",
     "text": [
      "/Users/mathieumuty/anaconda3/lib/python3.11/site-packages/sklearn/cluster/_kmeans.py:1412: FutureWarning: The default value of `n_init` will change from 10 to 'auto' in 1.4. Set the value of `n_init` explicitly to suppress the warning\n",
      "  super()._check_params_vs_input(X, default_n_init=10)\n",
      "/Users/mathieumuty/anaconda3/lib/python3.11/site-packages/sklearn/cluster/_kmeans.py:1412: RuntimeWarning: Explicit initial center position passed: performing only one init in KMeans instead of n_init=10.\n",
      "  super()._check_params_vs_input(X, default_n_init=10)\n"
     ]
    }
   ],
   "source": [
    "#Sélectionner les variables continues\n",
    "df=data.loc[:,'m1':'m9']\n",
    "k=6 #nb de groupe\n",
    "#Méthode Hiérarchique\n",
    "Z= linkage(X,method='complete') # Voisin le plus distant\n",
    "T = fcluster(Z, k, 'maxclust') # Assignation des observation à un groupe\n",
    "df['clusters']=T\n",
    "#On calcule les centroides\n",
    "centroid=df.groupby('clusters').mean()\n",
    "centroid.values\n",
    "#On fait k-moyenne avec les centroides obtenus comme point de départ\n",
    "kmeans = KMeans(n_clusters=k,# Nombre de groupes\n",
    "                random_state=0, # pour la reproductibilité du code\n",
    "                init=centroid.values).fit(df.loc[:,'m1':'m9']) #nb de fois que l'algo est exécuté avec differents centroides.\n",
    "df['clusters_kmeans']=kmeans.labels_+1 #+1 pour comparer les # de groupe car algo hier. commence à 1"
   ]
  },
  {
   "cell_type": "code",
   "execution_count": 25,
   "id": "d46c3ee3",
   "metadata": {},
   "outputs": [
    {
     "data": {
      "text/html": [
       "<div>\n",
       "<style scoped>\n",
       "    .dataframe tbody tr th:only-of-type {\n",
       "        vertical-align: middle;\n",
       "    }\n",
       "\n",
       "    .dataframe tbody tr th {\n",
       "        vertical-align: top;\n",
       "    }\n",
       "\n",
       "    .dataframe thead th {\n",
       "        text-align: right;\n",
       "    }\n",
       "</style>\n",
       "<table border=\"1\" class=\"dataframe\">\n",
       "  <thead>\n",
       "    <tr style=\"text-align: right;\">\n",
       "      <th>clusters_kmeans</th>\n",
       "      <th>1</th>\n",
       "      <th>2</th>\n",
       "      <th>3</th>\n",
       "      <th>4</th>\n",
       "      <th>5</th>\n",
       "      <th>6</th>\n",
       "    </tr>\n",
       "    <tr>\n",
       "      <th>clusters</th>\n",
       "      <th></th>\n",
       "      <th></th>\n",
       "      <th></th>\n",
       "      <th></th>\n",
       "      <th></th>\n",
       "      <th></th>\n",
       "    </tr>\n",
       "  </thead>\n",
       "  <tbody>\n",
       "    <tr>\n",
       "      <th>1</th>\n",
       "      <td>3.0</td>\n",
       "      <td>NaN</td>\n",
       "      <td>NaN</td>\n",
       "      <td>NaN</td>\n",
       "      <td>NaN</td>\n",
       "      <td>NaN</td>\n",
       "    </tr>\n",
       "    <tr>\n",
       "      <th>2</th>\n",
       "      <td>NaN</td>\n",
       "      <td>11.0</td>\n",
       "      <td>NaN</td>\n",
       "      <td>NaN</td>\n",
       "      <td>NaN</td>\n",
       "      <td>NaN</td>\n",
       "    </tr>\n",
       "    <tr>\n",
       "      <th>3</th>\n",
       "      <td>NaN</td>\n",
       "      <td>NaN</td>\n",
       "      <td>3.0</td>\n",
       "      <td>NaN</td>\n",
       "      <td>NaN</td>\n",
       "      <td>NaN</td>\n",
       "    </tr>\n",
       "    <tr>\n",
       "      <th>4</th>\n",
       "      <td>NaN</td>\n",
       "      <td>NaN</td>\n",
       "      <td>NaN</td>\n",
       "      <td>12.0</td>\n",
       "      <td>NaN</td>\n",
       "      <td>NaN</td>\n",
       "    </tr>\n",
       "    <tr>\n",
       "      <th>5</th>\n",
       "      <td>NaN</td>\n",
       "      <td>NaN</td>\n",
       "      <td>NaN</td>\n",
       "      <td>NaN</td>\n",
       "      <td>10.0</td>\n",
       "      <td>NaN</td>\n",
       "    </tr>\n",
       "    <tr>\n",
       "      <th>6</th>\n",
       "      <td>NaN</td>\n",
       "      <td>NaN</td>\n",
       "      <td>NaN</td>\n",
       "      <td>NaN</td>\n",
       "      <td>NaN</td>\n",
       "      <td>8.0</td>\n",
       "    </tr>\n",
       "  </tbody>\n",
       "</table>\n",
       "</div>"
      ],
      "text/plain": [
       "clusters_kmeans    1     2    3     4     5    6\n",
       "clusters                                        \n",
       "1                3.0   NaN  NaN   NaN   NaN  NaN\n",
       "2                NaN  11.0  NaN   NaN   NaN  NaN\n",
       "3                NaN   NaN  3.0   NaN   NaN  NaN\n",
       "4                NaN   NaN  NaN  12.0   NaN  NaN\n",
       "5                NaN   NaN  NaN   NaN  10.0  NaN\n",
       "6                NaN   NaN  NaN   NaN   NaN  8.0"
      ]
     },
     "execution_count": 25,
     "metadata": {},
     "output_type": "execute_result"
    }
   ],
   "source": [
    "# On compare les regroupements\n",
    "# Aucune observation n'a changé de regroupement: c'est positif\n",
    "df['id']=data['id']\n",
    "pd.pivot_table(df,values='id',index='clusters',columns='clusters_kmeans',aggfunc='count')"
   ]
  },
  {
   "cell_type": "markdown",
   "id": "62727fcf",
   "metadata": {},
   "source": [
    "## Choix du nombre de groupe"
   ]
  },
  {
   "cell_type": "code",
   "execution_count": 29,
   "id": "9ca33122",
   "metadata": {},
   "outputs": [
    {
     "name": "stderr",
     "output_type": "stream",
     "text": [
      "/Users/mathieumuty/anaconda3/lib/python3.11/site-packages/sklearn/cluster/_kmeans.py:1412: FutureWarning: The default value of `n_init` will change from 10 to 'auto' in 1.4. Set the value of `n_init` explicitly to suppress the warning\n",
      "  super()._check_params_vs_input(X, default_n_init=10)\n",
      "/Users/mathieumuty/anaconda3/lib/python3.11/site-packages/sklearn/cluster/_kmeans.py:1412: FutureWarning: The default value of `n_init` will change from 10 to 'auto' in 1.4. Set the value of `n_init` explicitly to suppress the warning\n",
      "  super()._check_params_vs_input(X, default_n_init=10)\n",
      "/Users/mathieumuty/anaconda3/lib/python3.11/site-packages/sklearn/cluster/_kmeans.py:1412: FutureWarning: The default value of `n_init` will change from 10 to 'auto' in 1.4. Set the value of `n_init` explicitly to suppress the warning\n",
      "  super()._check_params_vs_input(X, default_n_init=10)\n",
      "/Users/mathieumuty/anaconda3/lib/python3.11/site-packages/sklearn/cluster/_kmeans.py:1412: FutureWarning: The default value of `n_init` will change from 10 to 'auto' in 1.4. Set the value of `n_init` explicitly to suppress the warning\n",
      "  super()._check_params_vs_input(X, default_n_init=10)\n",
      "/Users/mathieumuty/anaconda3/lib/python3.11/site-packages/sklearn/cluster/_kmeans.py:1412: FutureWarning: The default value of `n_init` will change from 10 to 'auto' in 1.4. Set the value of `n_init` explicitly to suppress the warning\n",
      "  super()._check_params_vs_input(X, default_n_init=10)\n",
      "/Users/mathieumuty/anaconda3/lib/python3.11/site-packages/sklearn/cluster/_kmeans.py:1412: FutureWarning: The default value of `n_init` will change from 10 to 'auto' in 1.4. Set the value of `n_init` explicitly to suppress the warning\n",
      "  super()._check_params_vs_input(X, default_n_init=10)\n",
      "/Users/mathieumuty/anaconda3/lib/python3.11/site-packages/sklearn/cluster/_kmeans.py:1412: FutureWarning: The default value of `n_init` will change from 10 to 'auto' in 1.4. Set the value of `n_init` explicitly to suppress the warning\n",
      "  super()._check_params_vs_input(X, default_n_init=10)\n",
      "/Users/mathieumuty/anaconda3/lib/python3.11/site-packages/sklearn/cluster/_kmeans.py:1412: FutureWarning: The default value of `n_init` will change from 10 to 'auto' in 1.4. Set the value of `n_init` explicitly to suppress the warning\n",
      "  super()._check_params_vs_input(X, default_n_init=10)\n",
      "/Users/mathieumuty/anaconda3/lib/python3.11/site-packages/sklearn/cluster/_kmeans.py:1412: FutureWarning: The default value of `n_init` will change from 10 to 'auto' in 1.4. Set the value of `n_init` explicitly to suppress the warning\n",
      "  super()._check_params_vs_input(X, default_n_init=10)\n",
      "/Users/mathieumuty/anaconda3/lib/python3.11/site-packages/sklearn/cluster/_kmeans.py:1412: FutureWarning: The default value of `n_init` will change from 10 to 'auto' in 1.4. Set the value of `n_init` explicitly to suppress the warning\n",
      "  super()._check_params_vs_input(X, default_n_init=10)\n"
     ]
    },
    {
     "data": {
      "text/plain": [
       "Text(0.5, 1.0, 'Elbow Method')"
      ]
     },
     "execution_count": 29,
     "metadata": {},
     "output_type": "execute_result"
    },
    {
     "data": {
      "image/png": "[encoded data removed]",
      "text/plain": [
       "<Figure size 800x600 with 1 Axes>"
      ]
     },
     "metadata": {},
     "output_type": "display_data"
    }
   ],
   "source": [
    "# Calculer l'intertie pour différent k\n",
    "inertias = []\n",
    "df=data.loc[:,'m1':'m9']\n",
    "for k in range(1, 11):\n",
    "    kmeans = KMeans(n_clusters=k)\n",
    "    kmeans.fit(df) \n",
    "    inertias.append(kmeans.inertia_)\n",
    "\n",
    "# Figure elbow curve\n",
    "plt.figure(figsize=(8, 6))\n",
    "plt.plot(range(1, 11), inertias, marker='o')\n",
    "plt.xlabel('Number of Clusters')\n",
    "plt.ylabel('Inertia')\n",
    "plt.title('Elbow Method')\n"
   ]
  }
 ],
 "metadata": {
  "kernelspec": {
   "display_name": "Python 3 (ipykernel)",
   "language": "python",
   "name": "python3"
  },
  "language_info": {
   "codemirror_mode": {
    "name": "ipython",
    "version": 3
   },
   "file_extension": ".py",
   "mimetype": "text/x-python",
   "name": "python",
   "nbconvert_exporter": "python",
   "pygments_lexer": "ipython3",
   "version": "3.11.0"
  }
 },
 "nbformat": 4,
 "nbformat_minor": 5
}
